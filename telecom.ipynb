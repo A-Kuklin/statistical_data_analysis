{
 "cells": [
  {
   "cell_type": "markdown",
   "metadata": {},
   "source": [
    "# Исследование тарифов \n",
    "\n",
    "Заказчик — федеральный оператор сотовой связи «Мегалайн».  \n",
    "Предмет исследования два тарифных плана: «Смарт» и «Ультра».  \n",
    "Предстоит сделать предварительный анализ тарифов на небольшой выборке клиентов.  \n",
    "Проанализируем поведение клиентов и сделаем вывод — какой тариф лучше.  \n",
    "\n",
    "Описание тарифов:  \n",
    "* **Тариф «Смарт»**  \n",
    "   Ежемесячная плата: 550 рублей  \n",
    "   Включено 500 минут разговора, 50 сообщений и 15 Гб интернет-трафика  \n",
    "   Стоимость услуг сверх тарифного пакета:  \n",
    "   - минута разговора: 3 рубля  \n",
    "   - сообщение: 3 рубля  \n",
    "   - 1 Гб интернет-трафика: 200 рублей  \n",
    "\n",
    "* **Тариф «Ультра»**  \n",
    "   Ежемесячная плата: 1950 рублей  \n",
    "   Включено 3000 минут разговора, 1000 сообщений и 30 Гб интернет-трафика  \n",
    "   Стоимость услуг сверх тарифного пакета:  \n",
    "   - минута разговора: 1 рубль  \n",
    "   - сообщение: 1 рубль  \n",
    "   - 1 Гб интернет-трафика: 150 рублей  \n",
    "\n",
    "Справочно: «Мегалайн» всегда округляет секунды до минут, а мегабайты — до гигабайт."
   ]
  },
  {
   "cell_type": "markdown",
   "metadata": {},
   "source": [
    "## Общая информация"
   ]
  },
  {
   "cell_type": "code",
   "execution_count": 1,
   "metadata": {},
   "outputs": [],
   "source": [
    "import pandas as pd\n",
    "import matplotlib.pyplot as plt\n",
    "import seaborn as sns\n",
    "import numpy as np\n",
    "from scipy import stats as st"
   ]
  },
  {
   "cell_type": "code",
   "execution_count": 2,
   "metadata": {},
   "outputs": [],
   "source": [
    "calls = pd.read_csv('calls.csv')\n",
    "internet = pd.read_csv('internet.csv', index_col=0)\n",
    "messages = pd.read_csv('messages.csv')\n",
    "tariffs = pd.read_csv('tariffs.csv')\n",
    "users = pd.read_csv('users.csv')"
   ]
  },
  {
   "cell_type": "code",
   "execution_count": 3,
   "metadata": {},
   "outputs": [],
   "source": [
    "name_dict = {\n",
    "    'calls': {\n",
    "        'id': 'уникальный номер звонка',\n",
    "        'call_date': 'дата звонка',\n",
    "        'duration': 'длительность звонка в минутах',\n",
    "        'user_id': 'идентификатор пользователя, сделавшего звонок',\n",
    "    },\n",
    "    'internet': {\n",
    "        'id': 'уникальный номер сессии',\n",
    "        'mb_used': 'объём потраченного за сессию интернет-трафика (в мегабайтах)',\n",
    "        'session_date': 'дата интернет-сессии',\n",
    "        'user_id': 'идентификатор пользователя',\n",
    "    },\n",
    "    'messages': {\n",
    "        'id': 'уникальный номер сообщения',\n",
    "        'message_date': 'дата сообщения',\n",
    "        'user_id': 'идентификатор пользователя, отправившего сообщение',\n",
    "    },\n",
    "    'tariffs': {\n",
    "        'tariff_name': 'название тарифа',\n",
    "        'rub_monthly_fee': 'ежемесячная абонентская плата в рублях',\n",
    "        'minutes_included': 'количество минут разговора в месяц, включённых в абонентскую плату',\n",
    "        'messages_included': 'количество сообщений в месяц, включённых в абонентскую плату',\n",
    "        'mb_per_month_included': 'объём интернет-трафика, включённого в абонентскую плату (в мегабайтах)',\n",
    "        'rub_per_minute': 'стоимость минуты разговора сверх тарифного пакета',\n",
    "        'rub_per_message': 'стоимость отправки сообщения сверх тарифного пакета',\n",
    "        'rub_per_gb': 'стоимость дополнительного гигабайта интернет-трафика сверх тарифного пакета',\n",
    "    },\n",
    "    'users': {\n",
    "        'user_id': 'уникальный идентификатор пользователя',\n",
    "        'first_name': 'имя пользователя',\n",
    "        'last_name': 'фамилия пользователя',\n",
    "        'age': 'возраст пользователя (годы)',\n",
    "        'reg_date': 'дата подключения тарифа (день, месяц, год)',\n",
    "        'churn_date': 'дата прекращения пользования тарифом (если значение пропущено, то тариф ещё действовал на момент выгрузки данных)',\n",
    "        'city': 'город проживания пользователя',\n",
    "        'tariff': 'название тарифного плана',\n",
    "    },\n",
    "}"
   ]
  },
  {
   "cell_type": "code",
   "execution_count": 4,
   "metadata": {},
   "outputs": [],
   "source": [
    "def df_info(df):\n",
    "    name =[x for x in globals() if globals()[x] is df][0]\n",
    "    display(f\">>> {name} <<<\")\n",
    "    description = name_dict.get(name, {})\n",
    "    if description:\n",
    "        print('Описание столбцов:')\n",
    "    for k, v in description.items():\n",
    "        print(f\"• {k}: {v}\")\n",
    "    display(df.head())\n",
    "    df.info()\n",
    "    print('\\n——————————————————————————————————————————————————————————————————')"
   ]
  },
  {
   "cell_type": "code",
   "execution_count": 5,
   "metadata": {
    "scrolled": false
   },
   "outputs": [
    {
     "name": "stdout",
     "output_type": "stream",
     "text": [
      "——————————————————————————————————————————————————————————————————\n"
     ]
    },
    {
     "data": {
      "text/plain": "'>>> users <<<'"
     },
     "metadata": {},
     "output_type": "display_data"
    },
    {
     "name": "stdout",
     "output_type": "stream",
     "text": [
      "Описание столбцов:\n",
      "• user_id: уникальный идентификатор пользователя\n",
      "• first_name: имя пользователя\n",
      "• last_name: фамилия пользователя\n",
      "• age: возраст пользователя (годы)\n",
      "• reg_date: дата подключения тарифа (день, месяц, год)\n",
      "• churn_date: дата прекращения пользования тарифом (если значение пропущено, то тариф ещё действовал на момент выгрузки данных)\n",
      "• city: город проживания пользователя\n",
      "• tariff: название тарифного плана\n"
     ]
    },
    {
     "data": {
      "text/plain": "   user_id  age churn_date         city first_name  last_name    reg_date  \\\n0     1000   52        NaN    Краснодар     Рафаил  Верещагин  2018-05-25   \n1     1001   41        NaN       Москва       Иван       Ежов  2018-11-01   \n2     1002   59        NaN  Стерлитамак    Евгений  Абрамович  2018-06-17   \n3     1003   23        NaN       Москва      Белла   Белякова  2018-08-17   \n4     1004   68        NaN  Новокузнецк    Татьяна   Авдеенко  2018-05-14   \n\n  tariff  \n0  ultra  \n1  smart  \n2  smart  \n3  ultra  \n4  ultra  ",
      "text/html": "<div>\n<style scoped>\n    .dataframe tbody tr th:only-of-type {\n        vertical-align: middle;\n    }\n\n    .dataframe tbody tr th {\n        vertical-align: top;\n    }\n\n    .dataframe thead th {\n        text-align: right;\n    }\n</style>\n<table border=\"1\" class=\"dataframe\">\n  <thead>\n    <tr style=\"text-align: right;\">\n      <th></th>\n      <th>user_id</th>\n      <th>age</th>\n      <th>churn_date</th>\n      <th>city</th>\n      <th>first_name</th>\n      <th>last_name</th>\n      <th>reg_date</th>\n      <th>tariff</th>\n    </tr>\n  </thead>\n  <tbody>\n    <tr>\n      <th>0</th>\n      <td>1000</td>\n      <td>52</td>\n      <td>NaN</td>\n      <td>Краснодар</td>\n      <td>Рафаил</td>\n      <td>Верещагин</td>\n      <td>2018-05-25</td>\n      <td>ultra</td>\n    </tr>\n    <tr>\n      <th>1</th>\n      <td>1001</td>\n      <td>41</td>\n      <td>NaN</td>\n      <td>Москва</td>\n      <td>Иван</td>\n      <td>Ежов</td>\n      <td>2018-11-01</td>\n      <td>smart</td>\n    </tr>\n    <tr>\n      <th>2</th>\n      <td>1002</td>\n      <td>59</td>\n      <td>NaN</td>\n      <td>Стерлитамак</td>\n      <td>Евгений</td>\n      <td>Абрамович</td>\n      <td>2018-06-17</td>\n      <td>smart</td>\n    </tr>\n    <tr>\n      <th>3</th>\n      <td>1003</td>\n      <td>23</td>\n      <td>NaN</td>\n      <td>Москва</td>\n      <td>Белла</td>\n      <td>Белякова</td>\n      <td>2018-08-17</td>\n      <td>ultra</td>\n    </tr>\n    <tr>\n      <th>4</th>\n      <td>1004</td>\n      <td>68</td>\n      <td>NaN</td>\n      <td>Новокузнецк</td>\n      <td>Татьяна</td>\n      <td>Авдеенко</td>\n      <td>2018-05-14</td>\n      <td>ultra</td>\n    </tr>\n  </tbody>\n</table>\n</div>"
     },
     "metadata": {},
     "output_type": "display_data"
    },
    {
     "name": "stdout",
     "output_type": "stream",
     "text": [
      "<class 'pandas.core.frame.DataFrame'>\n",
      "RangeIndex: 500 entries, 0 to 499\n",
      "Data columns (total 8 columns):\n",
      " #   Column      Non-Null Count  Dtype \n",
      "---  ------      --------------  ----- \n",
      " 0   user_id     500 non-null    int64 \n",
      " 1   age         500 non-null    int64 \n",
      " 2   churn_date  38 non-null     object\n",
      " 3   city        500 non-null    object\n",
      " 4   first_name  500 non-null    object\n",
      " 5   last_name   500 non-null    object\n",
      " 6   reg_date    500 non-null    object\n",
      " 7   tariff      500 non-null    object\n",
      "dtypes: int64(2), object(6)\n",
      "memory usage: 31.4+ KB\n",
      "\n",
      "——————————————————————————————————————————————————————————————————\n"
     ]
    },
    {
     "data": {
      "text/plain": "'>>> calls <<<'"
     },
     "metadata": {},
     "output_type": "display_data"
    },
    {
     "name": "stdout",
     "output_type": "stream",
     "text": [
      "Описание столбцов:\n",
      "• id: уникальный номер звонка\n",
      "• call_date: дата звонка\n",
      "• duration: длительность звонка в минутах\n",
      "• user_id: идентификатор пользователя, сделавшего звонок\n"
     ]
    },
    {
     "data": {
      "text/plain": "       id   call_date  duration  user_id\n0  1000_0  2018-07-25      0.00     1000\n1  1000_1  2018-08-17      0.00     1000\n2  1000_2  2018-06-11      2.85     1000\n3  1000_3  2018-09-21     13.80     1000\n4  1000_4  2018-12-15      5.18     1000",
      "text/html": "<div>\n<style scoped>\n    .dataframe tbody tr th:only-of-type {\n        vertical-align: middle;\n    }\n\n    .dataframe tbody tr th {\n        vertical-align: top;\n    }\n\n    .dataframe thead th {\n        text-align: right;\n    }\n</style>\n<table border=\"1\" class=\"dataframe\">\n  <thead>\n    <tr style=\"text-align: right;\">\n      <th></th>\n      <th>id</th>\n      <th>call_date</th>\n      <th>duration</th>\n      <th>user_id</th>\n    </tr>\n  </thead>\n  <tbody>\n    <tr>\n      <th>0</th>\n      <td>1000_0</td>\n      <td>2018-07-25</td>\n      <td>0.00</td>\n      <td>1000</td>\n    </tr>\n    <tr>\n      <th>1</th>\n      <td>1000_1</td>\n      <td>2018-08-17</td>\n      <td>0.00</td>\n      <td>1000</td>\n    </tr>\n    <tr>\n      <th>2</th>\n      <td>1000_2</td>\n      <td>2018-06-11</td>\n      <td>2.85</td>\n      <td>1000</td>\n    </tr>\n    <tr>\n      <th>3</th>\n      <td>1000_3</td>\n      <td>2018-09-21</td>\n      <td>13.80</td>\n      <td>1000</td>\n    </tr>\n    <tr>\n      <th>4</th>\n      <td>1000_4</td>\n      <td>2018-12-15</td>\n      <td>5.18</td>\n      <td>1000</td>\n    </tr>\n  </tbody>\n</table>\n</div>"
     },
     "metadata": {},
     "output_type": "display_data"
    },
    {
     "name": "stdout",
     "output_type": "stream",
     "text": [
      "<class 'pandas.core.frame.DataFrame'>\n",
      "RangeIndex: 202607 entries, 0 to 202606\n",
      "Data columns (total 4 columns):\n",
      " #   Column     Non-Null Count   Dtype  \n",
      "---  ------     --------------   -----  \n",
      " 0   id         202607 non-null  object \n",
      " 1   call_date  202607 non-null  object \n",
      " 2   duration   202607 non-null  float64\n",
      " 3   user_id    202607 non-null  int64  \n",
      "dtypes: float64(1), int64(1), object(2)\n",
      "memory usage: 6.2+ MB\n",
      "\n",
      "——————————————————————————————————————————————————————————————————\n"
     ]
    },
    {
     "data": {
      "text/plain": "'>>> internet <<<'"
     },
     "metadata": {},
     "output_type": "display_data"
    },
    {
     "name": "stdout",
     "output_type": "stream",
     "text": [
      "Описание столбцов:\n",
      "• id: уникальный номер сессии\n",
      "• mb_used: объём потраченного за сессию интернет-трафика (в мегабайтах)\n",
      "• session_date: дата интернет-сессии\n",
      "• user_id: идентификатор пользователя\n"
     ]
    },
    {
     "data": {
      "text/plain": "       id  mb_used session_date  user_id\n0  1000_0   112.95   2018-11-25     1000\n1  1000_1  1052.81   2018-09-07     1000\n2  1000_2  1197.26   2018-06-25     1000\n3  1000_3   550.27   2018-08-22     1000\n4  1000_4   302.56   2018-09-24     1000",
      "text/html": "<div>\n<style scoped>\n    .dataframe tbody tr th:only-of-type {\n        vertical-align: middle;\n    }\n\n    .dataframe tbody tr th {\n        vertical-align: top;\n    }\n\n    .dataframe thead th {\n        text-align: right;\n    }\n</style>\n<table border=\"1\" class=\"dataframe\">\n  <thead>\n    <tr style=\"text-align: right;\">\n      <th></th>\n      <th>id</th>\n      <th>mb_used</th>\n      <th>session_date</th>\n      <th>user_id</th>\n    </tr>\n  </thead>\n  <tbody>\n    <tr>\n      <th>0</th>\n      <td>1000_0</td>\n      <td>112.95</td>\n      <td>2018-11-25</td>\n      <td>1000</td>\n    </tr>\n    <tr>\n      <th>1</th>\n      <td>1000_1</td>\n      <td>1052.81</td>\n      <td>2018-09-07</td>\n      <td>1000</td>\n    </tr>\n    <tr>\n      <th>2</th>\n      <td>1000_2</td>\n      <td>1197.26</td>\n      <td>2018-06-25</td>\n      <td>1000</td>\n    </tr>\n    <tr>\n      <th>3</th>\n      <td>1000_3</td>\n      <td>550.27</td>\n      <td>2018-08-22</td>\n      <td>1000</td>\n    </tr>\n    <tr>\n      <th>4</th>\n      <td>1000_4</td>\n      <td>302.56</td>\n      <td>2018-09-24</td>\n      <td>1000</td>\n    </tr>\n  </tbody>\n</table>\n</div>"
     },
     "metadata": {},
     "output_type": "display_data"
    },
    {
     "name": "stdout",
     "output_type": "stream",
     "text": [
      "<class 'pandas.core.frame.DataFrame'>\n",
      "Int64Index: 149396 entries, 0 to 149395\n",
      "Data columns (total 4 columns):\n",
      " #   Column        Non-Null Count   Dtype  \n",
      "---  ------        --------------   -----  \n",
      " 0   id            149396 non-null  object \n",
      " 1   mb_used       149396 non-null  float64\n",
      " 2   session_date  149396 non-null  object \n",
      " 3   user_id       149396 non-null  int64  \n",
      "dtypes: float64(1), int64(1), object(2)\n",
      "memory usage: 5.7+ MB\n",
      "\n",
      "——————————————————————————————————————————————————————————————————\n"
     ]
    },
    {
     "data": {
      "text/plain": "'>>> messages <<<'"
     },
     "metadata": {},
     "output_type": "display_data"
    },
    {
     "name": "stdout",
     "output_type": "stream",
     "text": [
      "Описание столбцов:\n",
      "• id: уникальный номер сообщения\n",
      "• message_date: дата сообщения\n",
      "• user_id: идентификатор пользователя, отправившего сообщение\n"
     ]
    },
    {
     "data": {
      "text/plain": "       id message_date  user_id\n0  1000_0   2018-06-27     1000\n1  1000_1   2018-10-08     1000\n2  1000_2   2018-08-04     1000\n3  1000_3   2018-06-16     1000\n4  1000_4   2018-12-05     1000",
      "text/html": "<div>\n<style scoped>\n    .dataframe tbody tr th:only-of-type {\n        vertical-align: middle;\n    }\n\n    .dataframe tbody tr th {\n        vertical-align: top;\n    }\n\n    .dataframe thead th {\n        text-align: right;\n    }\n</style>\n<table border=\"1\" class=\"dataframe\">\n  <thead>\n    <tr style=\"text-align: right;\">\n      <th></th>\n      <th>id</th>\n      <th>message_date</th>\n      <th>user_id</th>\n    </tr>\n  </thead>\n  <tbody>\n    <tr>\n      <th>0</th>\n      <td>1000_0</td>\n      <td>2018-06-27</td>\n      <td>1000</td>\n    </tr>\n    <tr>\n      <th>1</th>\n      <td>1000_1</td>\n      <td>2018-10-08</td>\n      <td>1000</td>\n    </tr>\n    <tr>\n      <th>2</th>\n      <td>1000_2</td>\n      <td>2018-08-04</td>\n      <td>1000</td>\n    </tr>\n    <tr>\n      <th>3</th>\n      <td>1000_3</td>\n      <td>2018-06-16</td>\n      <td>1000</td>\n    </tr>\n    <tr>\n      <th>4</th>\n      <td>1000_4</td>\n      <td>2018-12-05</td>\n      <td>1000</td>\n    </tr>\n  </tbody>\n</table>\n</div>"
     },
     "metadata": {},
     "output_type": "display_data"
    },
    {
     "name": "stdout",
     "output_type": "stream",
     "text": [
      "<class 'pandas.core.frame.DataFrame'>\n",
      "RangeIndex: 123036 entries, 0 to 123035\n",
      "Data columns (total 3 columns):\n",
      " #   Column        Non-Null Count   Dtype \n",
      "---  ------        --------------   ----- \n",
      " 0   id            123036 non-null  object\n",
      " 1   message_date  123036 non-null  object\n",
      " 2   user_id       123036 non-null  int64 \n",
      "dtypes: int64(1), object(2)\n",
      "memory usage: 2.8+ MB\n",
      "\n",
      "——————————————————————————————————————————————————————————————————\n"
     ]
    },
    {
     "data": {
      "text/plain": "'>>> tariffs <<<'"
     },
     "metadata": {},
     "output_type": "display_data"
    },
    {
     "name": "stdout",
     "output_type": "stream",
     "text": [
      "Описание столбцов:\n",
      "• tariff_name: название тарифа\n",
      "• rub_monthly_fee: ежемесячная абонентская плата в рублях\n",
      "• minutes_included: количество минут разговора в месяц, включённых в абонентскую плату\n",
      "• messages_included: количество сообщений в месяц, включённых в абонентскую плату\n",
      "• mb_per_month_included: объём интернет-трафика, включённого в абонентскую плату (в мегабайтах)\n",
      "• rub_per_minute: стоимость минуты разговора сверх тарифного пакета\n",
      "• rub_per_message: стоимость отправки сообщения сверх тарифного пакета\n",
      "• rub_per_gb: стоимость дополнительного гигабайта интернет-трафика сверх тарифного пакета\n"
     ]
    },
    {
     "data": {
      "text/plain": "   messages_included  mb_per_month_included  minutes_included  \\\n0                 50                  15360               500   \n1               1000                  30720              3000   \n\n   rub_monthly_fee  rub_per_gb  rub_per_message  rub_per_minute tariff_name  \n0              550         200                3               3       smart  \n1             1950         150                1               1       ultra  ",
      "text/html": "<div>\n<style scoped>\n    .dataframe tbody tr th:only-of-type {\n        vertical-align: middle;\n    }\n\n    .dataframe tbody tr th {\n        vertical-align: top;\n    }\n\n    .dataframe thead th {\n        text-align: right;\n    }\n</style>\n<table border=\"1\" class=\"dataframe\">\n  <thead>\n    <tr style=\"text-align: right;\">\n      <th></th>\n      <th>messages_included</th>\n      <th>mb_per_month_included</th>\n      <th>minutes_included</th>\n      <th>rub_monthly_fee</th>\n      <th>rub_per_gb</th>\n      <th>rub_per_message</th>\n      <th>rub_per_minute</th>\n      <th>tariff_name</th>\n    </tr>\n  </thead>\n  <tbody>\n    <tr>\n      <th>0</th>\n      <td>50</td>\n      <td>15360</td>\n      <td>500</td>\n      <td>550</td>\n      <td>200</td>\n      <td>3</td>\n      <td>3</td>\n      <td>smart</td>\n    </tr>\n    <tr>\n      <th>1</th>\n      <td>1000</td>\n      <td>30720</td>\n      <td>3000</td>\n      <td>1950</td>\n      <td>150</td>\n      <td>1</td>\n      <td>1</td>\n      <td>ultra</td>\n    </tr>\n  </tbody>\n</table>\n</div>"
     },
     "metadata": {},
     "output_type": "display_data"
    },
    {
     "name": "stdout",
     "output_type": "stream",
     "text": [
      "<class 'pandas.core.frame.DataFrame'>\n",
      "RangeIndex: 2 entries, 0 to 1\n",
      "Data columns (total 8 columns):\n",
      " #   Column                 Non-Null Count  Dtype \n",
      "---  ------                 --------------  ----- \n",
      " 0   messages_included      2 non-null      int64 \n",
      " 1   mb_per_month_included  2 non-null      int64 \n",
      " 2   minutes_included       2 non-null      int64 \n",
      " 3   rub_monthly_fee        2 non-null      int64 \n",
      " 4   rub_per_gb             2 non-null      int64 \n",
      " 5   rub_per_message        2 non-null      int64 \n",
      " 6   rub_per_minute         2 non-null      int64 \n",
      " 7   tariff_name            2 non-null      object\n",
      "dtypes: int64(7), object(1)\n",
      "memory usage: 256.0+ bytes\n",
      "\n",
      "——————————————————————————————————————————————————————————————————\n"
     ]
    }
   ],
   "source": [
    "print('——————————————————————————————————————————————————————————————————')\n",
    "df_info(users)\n",
    "df_info(calls)\n",
    "df_info(internet)\n",
    "df_info(messages)\n",
    "df_info(tariffs)"
   ]
  },
  {
   "cell_type": "markdown",
   "metadata": {},
   "source": [
    "Количество клиентов каждого тарифа:"
   ]
  },
  {
   "cell_type": "code",
   "execution_count": 6,
   "metadata": {
    "scrolled": true
   },
   "outputs": [
    {
     "data": {
      "text/plain": "smart    351\nultra    149\nName: tariff, dtype: int64"
     },
     "execution_count": 6,
     "metadata": {},
     "output_type": "execute_result"
    }
   ],
   "source": [
    "users['tariff'].value_counts()"
   ]
  },
  {
   "cell_type": "markdown",
   "metadata": {},
   "source": [
    "***\n",
    "### Вывод\n",
    "\n",
    "* Таблица `users`.\n",
    "   - Стоит переименовать столбцы: `reg_date` в `start_date`, `churn_date` в `end_date`.\n",
    "   - Даты `reg_date` и `churn_date` необходимо привести к соответствующему формату.\n",
    "\n",
    "* Таблица `calls`.\n",
    "   - Таблица содержит список звонков, которые можно соотнести с пользователем по `user_id`.\n",
    "   - Из-за логики работы тарифов стоит округлить длительность звонков `duration` до минут в б́ольшую сторону.\n",
    "   - Дату `call_date` необходимо привести к соответствующему формату.\n",
    "   - Стоит добавить столбец названия месяца `month` для  будущего анализа. \n",
    "   - Предварительно необходимо проверить, что данные взяты в рамках одного календарного года.\n",
    "\n",
    "* Таблица `internet`.\n",
    "   - Необходимо удалить задвоенный столбец индексов `Unnamed`.\n",
    "   - Таблица содержит список интернет-сессий, которые можно соотнести с пользователем по `user_id`.\n",
    "   - Аналогично таблице `calls` необходимо `session_date` необходимо привести к соответствующему формату и выделить месяц в отдельный столбец.\n",
    "   - Необходимо округлить `mb_used` согласно правилам округления тарифа.\n",
    "\n",
    "* Таблица `messages`.\n",
    "   - Таблица содержит список смс-сообщений, которые можно соотнести с пользователем по `user_id`.\n",
    "   - Аналогично таблице `calls` необходимо `message_date` необходимо привести к соответствующему формату и выделить месяц в отдельный столбец.\n",
    "\n",
    "* Таблица `tariffs`.\n",
    "   - Таблица содержит описание двух тарифов, которые являются предметом анализа.<br><br>\n",
    "\n",
    "***"
   ]
  },
  {
   "cell_type": "markdown",
   "metadata": {},
   "source": [
    "## Предобработка данных"
   ]
  },
  {
   "cell_type": "markdown",
   "metadata": {},
   "source": [
    "### Таблица `users`."
   ]
  },
  {
   "cell_type": "code",
   "execution_count": 7,
   "metadata": {
    "scrolled": true
   },
   "outputs": [],
   "source": [
    "users = users.rename(\n",
    "    columns={\n",
    "        'reg_date': 'start_date', \n",
    "        'churn_date': 'end_date',\n",
    "    })\n",
    "users['start_date'] = pd.to_datetime(users['start_date'], format='%Y-%m-%d')\n",
    "users['end_date'] = pd.to_datetime(users['end_date'], format='%Y-%m-%d')"
   ]
  },
  {
   "cell_type": "code",
   "execution_count": 8,
   "metadata": {},
   "outputs": [
    {
     "data": {
      "text/plain": "   user_id  age end_date         city first_name  last_name start_date tariff\n0     1000   52      NaT    Краснодар     Рафаил  Верещагин 2018-05-25  ultra\n1     1001   41      NaT       Москва       Иван       Ежов 2018-11-01  smart\n2     1002   59      NaT  Стерлитамак    Евгений  Абрамович 2018-06-17  smart\n3     1003   23      NaT       Москва      Белла   Белякова 2018-08-17  ultra\n4     1004   68      NaT  Новокузнецк    Татьяна   Авдеенко 2018-05-14  ultra",
      "text/html": "<div>\n<style scoped>\n    .dataframe tbody tr th:only-of-type {\n        vertical-align: middle;\n    }\n\n    .dataframe tbody tr th {\n        vertical-align: top;\n    }\n\n    .dataframe thead th {\n        text-align: right;\n    }\n</style>\n<table border=\"1\" class=\"dataframe\">\n  <thead>\n    <tr style=\"text-align: right;\">\n      <th></th>\n      <th>user_id</th>\n      <th>age</th>\n      <th>end_date</th>\n      <th>city</th>\n      <th>first_name</th>\n      <th>last_name</th>\n      <th>start_date</th>\n      <th>tariff</th>\n    </tr>\n  </thead>\n  <tbody>\n    <tr>\n      <th>0</th>\n      <td>1000</td>\n      <td>52</td>\n      <td>NaT</td>\n      <td>Краснодар</td>\n      <td>Рафаил</td>\n      <td>Верещагин</td>\n      <td>2018-05-25</td>\n      <td>ultra</td>\n    </tr>\n    <tr>\n      <th>1</th>\n      <td>1001</td>\n      <td>41</td>\n      <td>NaT</td>\n      <td>Москва</td>\n      <td>Иван</td>\n      <td>Ежов</td>\n      <td>2018-11-01</td>\n      <td>smart</td>\n    </tr>\n    <tr>\n      <th>2</th>\n      <td>1002</td>\n      <td>59</td>\n      <td>NaT</td>\n      <td>Стерлитамак</td>\n      <td>Евгений</td>\n      <td>Абрамович</td>\n      <td>2018-06-17</td>\n      <td>smart</td>\n    </tr>\n    <tr>\n      <th>3</th>\n      <td>1003</td>\n      <td>23</td>\n      <td>NaT</td>\n      <td>Москва</td>\n      <td>Белла</td>\n      <td>Белякова</td>\n      <td>2018-08-17</td>\n      <td>ultra</td>\n    </tr>\n    <tr>\n      <th>4</th>\n      <td>1004</td>\n      <td>68</td>\n      <td>NaT</td>\n      <td>Новокузнецк</td>\n      <td>Татьяна</td>\n      <td>Авдеенко</td>\n      <td>2018-05-14</td>\n      <td>ultra</td>\n    </tr>\n  </tbody>\n</table>\n</div>"
     },
     "execution_count": 8,
     "metadata": {},
     "output_type": "execute_result"
    }
   ],
   "source": [
    "users.head()"
   ]
  },
  {
   "cell_type": "markdown",
   "metadata": {},
   "source": [
    "### Таблица `calls`. Столбец `call_date`."
   ]
  },
  {
   "cell_type": "code",
   "execution_count": 9,
   "metadata": {},
   "outputs": [],
   "source": [
    "calls['call_date'] = pd.to_datetime(calls['call_date'], format='%Y-%m-%d')\n",
    "calls['month'] = calls['call_date'].dt.month\n",
    "calls['duration'] = np.ceil(calls['duration'])"
   ]
  },
  {
   "cell_type": "code",
   "execution_count": 10,
   "metadata": {},
   "outputs": [
    {
     "data": {
      "text/plain": "       id  call_date  duration  user_id  month\n0  1000_0 2018-07-25       0.0     1000      7\n1  1000_1 2018-08-17       0.0     1000      8\n2  1000_2 2018-06-11       3.0     1000      6\n3  1000_3 2018-09-21      14.0     1000      9\n4  1000_4 2018-12-15       6.0     1000     12",
      "text/html": "<div>\n<style scoped>\n    .dataframe tbody tr th:only-of-type {\n        vertical-align: middle;\n    }\n\n    .dataframe tbody tr th {\n        vertical-align: top;\n    }\n\n    .dataframe thead th {\n        text-align: right;\n    }\n</style>\n<table border=\"1\" class=\"dataframe\">\n  <thead>\n    <tr style=\"text-align: right;\">\n      <th></th>\n      <th>id</th>\n      <th>call_date</th>\n      <th>duration</th>\n      <th>user_id</th>\n      <th>month</th>\n    </tr>\n  </thead>\n  <tbody>\n    <tr>\n      <th>0</th>\n      <td>1000_0</td>\n      <td>2018-07-25</td>\n      <td>0.0</td>\n      <td>1000</td>\n      <td>7</td>\n    </tr>\n    <tr>\n      <th>1</th>\n      <td>1000_1</td>\n      <td>2018-08-17</td>\n      <td>0.0</td>\n      <td>1000</td>\n      <td>8</td>\n    </tr>\n    <tr>\n      <th>2</th>\n      <td>1000_2</td>\n      <td>2018-06-11</td>\n      <td>3.0</td>\n      <td>1000</td>\n      <td>6</td>\n    </tr>\n    <tr>\n      <th>3</th>\n      <td>1000_3</td>\n      <td>2018-09-21</td>\n      <td>14.0</td>\n      <td>1000</td>\n      <td>9</td>\n    </tr>\n    <tr>\n      <th>4</th>\n      <td>1000_4</td>\n      <td>2018-12-15</td>\n      <td>6.0</td>\n      <td>1000</td>\n      <td>12</td>\n    </tr>\n  </tbody>\n</table>\n</div>"
     },
     "execution_count": 10,
     "metadata": {},
     "output_type": "execute_result"
    }
   ],
   "source": [
    "calls.head()"
   ]
  },
  {
   "cell_type": "markdown",
   "metadata": {},
   "source": [
    "### Таблица `internet`. "
   ]
  },
  {
   "cell_type": "markdown",
   "metadata": {},
   "source": [
    "* Столбец `session_date`."
   ]
  },
  {
   "cell_type": "code",
   "execution_count": 11,
   "metadata": {},
   "outputs": [],
   "source": [
    "internet['session_date'] = pd.to_datetime(internet['session_date'], format='%Y-%m-%d')\n",
    "internet['month'] = internet['session_date'].dt.month"
   ]
  },
  {
   "cell_type": "code",
   "execution_count": 12,
   "metadata": {},
   "outputs": [
    {
     "data": {
      "text/plain": "       id  mb_used session_date  user_id  month\n0  1000_0   112.95   2018-11-25     1000     11\n1  1000_1  1052.81   2018-09-07     1000      9\n2  1000_2  1197.26   2018-06-25     1000      6\n3  1000_3   550.27   2018-08-22     1000      8\n4  1000_4   302.56   2018-09-24     1000      9",
      "text/html": "<div>\n<style scoped>\n    .dataframe tbody tr th:only-of-type {\n        vertical-align: middle;\n    }\n\n    .dataframe tbody tr th {\n        vertical-align: top;\n    }\n\n    .dataframe thead th {\n        text-align: right;\n    }\n</style>\n<table border=\"1\" class=\"dataframe\">\n  <thead>\n    <tr style=\"text-align: right;\">\n      <th></th>\n      <th>id</th>\n      <th>mb_used</th>\n      <th>session_date</th>\n      <th>user_id</th>\n      <th>month</th>\n    </tr>\n  </thead>\n  <tbody>\n    <tr>\n      <th>0</th>\n      <td>1000_0</td>\n      <td>112.95</td>\n      <td>2018-11-25</td>\n      <td>1000</td>\n      <td>11</td>\n    </tr>\n    <tr>\n      <th>1</th>\n      <td>1000_1</td>\n      <td>1052.81</td>\n      <td>2018-09-07</td>\n      <td>1000</td>\n      <td>9</td>\n    </tr>\n    <tr>\n      <th>2</th>\n      <td>1000_2</td>\n      <td>1197.26</td>\n      <td>2018-06-25</td>\n      <td>1000</td>\n      <td>6</td>\n    </tr>\n    <tr>\n      <th>3</th>\n      <td>1000_3</td>\n      <td>550.27</td>\n      <td>2018-08-22</td>\n      <td>1000</td>\n      <td>8</td>\n    </tr>\n    <tr>\n      <th>4</th>\n      <td>1000_4</td>\n      <td>302.56</td>\n      <td>2018-09-24</td>\n      <td>1000</td>\n      <td>9</td>\n    </tr>\n  </tbody>\n</table>\n</div>"
     },
     "execution_count": 12,
     "metadata": {},
     "output_type": "execute_result"
    }
   ],
   "source": [
    "internet.head()"
   ]
  },
  {
   "cell_type": "markdown",
   "metadata": {},
   "source": [
    "### Таблица `messages`. Столбец `message_date`."
   ]
  },
  {
   "cell_type": "code",
   "execution_count": 13,
   "metadata": {},
   "outputs": [],
   "source": [
    "messages['message_date'] = pd.to_datetime(messages['message_date'], format='%Y-%m-%d')\n",
    "messages['month'] = messages['message_date'].dt.month"
   ]
  },
  {
   "cell_type": "code",
   "execution_count": 14,
   "metadata": {
    "scrolled": true
   },
   "outputs": [
    {
     "data": {
      "text/plain": "       id message_date  user_id  month\n0  1000_0   2018-06-27     1000      6\n1  1000_1   2018-10-08     1000     10\n2  1000_2   2018-08-04     1000      8\n3  1000_3   2018-06-16     1000      6\n4  1000_4   2018-12-05     1000     12",
      "text/html": "<div>\n<style scoped>\n    .dataframe tbody tr th:only-of-type {\n        vertical-align: middle;\n    }\n\n    .dataframe tbody tr th {\n        vertical-align: top;\n    }\n\n    .dataframe thead th {\n        text-align: right;\n    }\n</style>\n<table border=\"1\" class=\"dataframe\">\n  <thead>\n    <tr style=\"text-align: right;\">\n      <th></th>\n      <th>id</th>\n      <th>message_date</th>\n      <th>user_id</th>\n      <th>month</th>\n    </tr>\n  </thead>\n  <tbody>\n    <tr>\n      <th>0</th>\n      <td>1000_0</td>\n      <td>2018-06-27</td>\n      <td>1000</td>\n      <td>6</td>\n    </tr>\n    <tr>\n      <th>1</th>\n      <td>1000_1</td>\n      <td>2018-10-08</td>\n      <td>1000</td>\n      <td>10</td>\n    </tr>\n    <tr>\n      <th>2</th>\n      <td>1000_2</td>\n      <td>2018-08-04</td>\n      <td>1000</td>\n      <td>8</td>\n    </tr>\n    <tr>\n      <th>3</th>\n      <td>1000_3</td>\n      <td>2018-06-16</td>\n      <td>1000</td>\n      <td>6</td>\n    </tr>\n    <tr>\n      <th>4</th>\n      <td>1000_4</td>\n      <td>2018-12-05</td>\n      <td>1000</td>\n      <td>12</td>\n    </tr>\n  </tbody>\n</table>\n</div>"
     },
     "execution_count": 14,
     "metadata": {},
     "output_type": "execute_result"
    }
   ],
   "source": [
    "messages.head()"
   ]
  },
  {
   "cell_type": "markdown",
   "metadata": {},
   "source": [
    "### Проверка даты (единый год) в каждой таблице."
   ]
  },
  {
   "cell_type": "code",
   "execution_count": 15,
   "metadata": {},
   "outputs": [
    {
     "data": {
      "text/plain": "array([2018], dtype=int64)"
     },
     "execution_count": 15,
     "metadata": {},
     "output_type": "execute_result"
    }
   ],
   "source": [
    "check_year = pd.concat([calls['call_date'], internet['session_date'], messages['message_date']], ignore_index=True)\n",
    "check_year.dt.year.unique()"
   ]
  },
  {
   "cell_type": "markdown",
   "metadata": {},
   "source": [
    "Так как данные взяты за один год, можно было использовать метод `dt.month`."
   ]
  },
  {
   "cell_type": "markdown",
   "metadata": {},
   "source": [
    "***\n",
    "### Вывод\n",
    "\n",
    "* Привёл все даты к нужному типу.\n",
    "* В таблицах `users`, `calls`, `internet` выделил отдельный столбец с месяцем для будущего анализа.<br><br>\n",
    "***"
   ]
  },
  {
   "cell_type": "markdown",
   "metadata": {},
   "source": [
    "## Группировка данных"
   ]
  },
  {
   "cell_type": "markdown",
   "metadata": {},
   "source": [
    "### Группировка звонков. Таблица `calls`."
   ]
  },
  {
   "cell_type": "code",
   "execution_count": 16,
   "metadata": {},
   "outputs": [],
   "source": [
    "monthly_calls = calls.pivot_table(\n",
    "    index=['user_id', 'month'],\n",
    "    values='duration',\n",
    "    aggfunc=['count', 'sum']\n",
    ")\n",
    "monthly_calls.columns = ['calls', 'duration']"
   ]
  },
  {
   "cell_type": "code",
   "execution_count": 17,
   "metadata": {},
   "outputs": [
    {
     "data": {
      "text/plain": "               calls  duration\nuser_id month                 \n1000    5         22     159.0\n        6         43     172.0\n        7         47     340.0\n        8         52     408.0\n        9         58     466.0\n...              ...       ...\n1498    10        41     247.0\n1499    9          9      70.0\n        10        68     449.0\n        11        74     612.0\n        12        69     492.0\n\n[3174 rows x 2 columns]",
      "text/html": "<div>\n<style scoped>\n    .dataframe tbody tr th:only-of-type {\n        vertical-align: middle;\n    }\n\n    .dataframe tbody tr th {\n        vertical-align: top;\n    }\n\n    .dataframe thead th {\n        text-align: right;\n    }\n</style>\n<table border=\"1\" class=\"dataframe\">\n  <thead>\n    <tr style=\"text-align: right;\">\n      <th></th>\n      <th></th>\n      <th>calls</th>\n      <th>duration</th>\n    </tr>\n    <tr>\n      <th>user_id</th>\n      <th>month</th>\n      <th></th>\n      <th></th>\n    </tr>\n  </thead>\n  <tbody>\n    <tr>\n      <th rowspan=\"5\" valign=\"top\">1000</th>\n      <th>5</th>\n      <td>22</td>\n      <td>159.0</td>\n    </tr>\n    <tr>\n      <th>6</th>\n      <td>43</td>\n      <td>172.0</td>\n    </tr>\n    <tr>\n      <th>7</th>\n      <td>47</td>\n      <td>340.0</td>\n    </tr>\n    <tr>\n      <th>8</th>\n      <td>52</td>\n      <td>408.0</td>\n    </tr>\n    <tr>\n      <th>9</th>\n      <td>58</td>\n      <td>466.0</td>\n    </tr>\n    <tr>\n      <th>...</th>\n      <th>...</th>\n      <td>...</td>\n      <td>...</td>\n    </tr>\n    <tr>\n      <th>1498</th>\n      <th>10</th>\n      <td>41</td>\n      <td>247.0</td>\n    </tr>\n    <tr>\n      <th rowspan=\"4\" valign=\"top\">1499</th>\n      <th>9</th>\n      <td>9</td>\n      <td>70.0</td>\n    </tr>\n    <tr>\n      <th>10</th>\n      <td>68</td>\n      <td>449.0</td>\n    </tr>\n    <tr>\n      <th>11</th>\n      <td>74</td>\n      <td>612.0</td>\n    </tr>\n    <tr>\n      <th>12</th>\n      <td>69</td>\n      <td>492.0</td>\n    </tr>\n  </tbody>\n</table>\n<p>3174 rows × 2 columns</p>\n</div>"
     },
     "execution_count": 17,
     "metadata": {},
     "output_type": "execute_result"
    }
   ],
   "source": [
    "monthly_calls"
   ]
  },
  {
   "cell_type": "markdown",
   "metadata": {},
   "source": [
    "### Группировка сообщений. Таблица `messages`."
   ]
  },
  {
   "cell_type": "code",
   "execution_count": 18,
   "metadata": {},
   "outputs": [],
   "source": [
    "monthly_messages = calls.pivot_table(\n",
    "    index=['user_id', 'month'],\n",
    "    values='id',\n",
    "    aggfunc='count'\n",
    ")\n",
    "monthly_messages.columns = ['messages_sum']"
   ]
  },
  {
   "cell_type": "code",
   "execution_count": 19,
   "metadata": {},
   "outputs": [
    {
     "data": {
      "text/plain": "               messages_sum\nuser_id month              \n1000    5                22\n        6                43\n        7                47\n        8                52\n        9                58\n...                     ...\n1498    10               41\n1499    9                 9\n        10               68\n        11               74\n        12               69\n\n[3174 rows x 1 columns]",
      "text/html": "<div>\n<style scoped>\n    .dataframe tbody tr th:only-of-type {\n        vertical-align: middle;\n    }\n\n    .dataframe tbody tr th {\n        vertical-align: top;\n    }\n\n    .dataframe thead th {\n        text-align: right;\n    }\n</style>\n<table border=\"1\" class=\"dataframe\">\n  <thead>\n    <tr style=\"text-align: right;\">\n      <th></th>\n      <th></th>\n      <th>messages_sum</th>\n    </tr>\n    <tr>\n      <th>user_id</th>\n      <th>month</th>\n      <th></th>\n    </tr>\n  </thead>\n  <tbody>\n    <tr>\n      <th rowspan=\"5\" valign=\"top\">1000</th>\n      <th>5</th>\n      <td>22</td>\n    </tr>\n    <tr>\n      <th>6</th>\n      <td>43</td>\n    </tr>\n    <tr>\n      <th>7</th>\n      <td>47</td>\n    </tr>\n    <tr>\n      <th>8</th>\n      <td>52</td>\n    </tr>\n    <tr>\n      <th>9</th>\n      <td>58</td>\n    </tr>\n    <tr>\n      <th>...</th>\n      <th>...</th>\n      <td>...</td>\n    </tr>\n    <tr>\n      <th>1498</th>\n      <th>10</th>\n      <td>41</td>\n    </tr>\n    <tr>\n      <th rowspan=\"4\" valign=\"top\">1499</th>\n      <th>9</th>\n      <td>9</td>\n    </tr>\n    <tr>\n      <th>10</th>\n      <td>68</td>\n    </tr>\n    <tr>\n      <th>11</th>\n      <td>74</td>\n    </tr>\n    <tr>\n      <th>12</th>\n      <td>69</td>\n    </tr>\n  </tbody>\n</table>\n<p>3174 rows × 1 columns</p>\n</div>"
     },
     "execution_count": 19,
     "metadata": {},
     "output_type": "execute_result"
    }
   ],
   "source": [
    "monthly_messages"
   ]
  },
  {
   "cell_type": "markdown",
   "metadata": {},
   "source": [
    "### Группировка трафика. Таблица `internet`."
   ]
  },
  {
   "cell_type": "code",
   "execution_count": 20,
   "metadata": {},
   "outputs": [],
   "source": [
    "monthly_internet = internet.pivot_table(\n",
    "    index=['user_id', 'month'],\n",
    "    values='mb_used',\n",
    "    aggfunc='sum'\n",
    ")\n",
    "monthly_internet.columns = ['traffic_sum']"
   ]
  },
  {
   "cell_type": "code",
   "execution_count": 21,
   "outputs": [
    {
     "data": {
      "text/plain": "               traffic_sum\nuser_id month             \n1000    5          2253.49\n        6         23233.77\n        7         14003.64\n        8         14055.93\n        9         14568.91\n...                    ...\n1498    10        20579.36\n1499    9          1845.75\n        10        17788.51\n        11        17963.31\n        12        13055.58\n\n[3203 rows x 1 columns]",
      "text/html": "<div>\n<style scoped>\n    .dataframe tbody tr th:only-of-type {\n        vertical-align: middle;\n    }\n\n    .dataframe tbody tr th {\n        vertical-align: top;\n    }\n\n    .dataframe thead th {\n        text-align: right;\n    }\n</style>\n<table border=\"1\" class=\"dataframe\">\n  <thead>\n    <tr style=\"text-align: right;\">\n      <th></th>\n      <th></th>\n      <th>traffic_sum</th>\n    </tr>\n    <tr>\n      <th>user_id</th>\n      <th>month</th>\n      <th></th>\n    </tr>\n  </thead>\n  <tbody>\n    <tr>\n      <th rowspan=\"5\" valign=\"top\">1000</th>\n      <th>5</th>\n      <td>2253.49</td>\n    </tr>\n    <tr>\n      <th>6</th>\n      <td>23233.77</td>\n    </tr>\n    <tr>\n      <th>7</th>\n      <td>14003.64</td>\n    </tr>\n    <tr>\n      <th>8</th>\n      <td>14055.93</td>\n    </tr>\n    <tr>\n      <th>9</th>\n      <td>14568.91</td>\n    </tr>\n    <tr>\n      <th>...</th>\n      <th>...</th>\n      <td>...</td>\n    </tr>\n    <tr>\n      <th>1498</th>\n      <th>10</th>\n      <td>20579.36</td>\n    </tr>\n    <tr>\n      <th rowspan=\"4\" valign=\"top\">1499</th>\n      <th>9</th>\n      <td>1845.75</td>\n    </tr>\n    <tr>\n      <th>10</th>\n      <td>17788.51</td>\n    </tr>\n    <tr>\n      <th>11</th>\n      <td>17963.31</td>\n    </tr>\n    <tr>\n      <th>12</th>\n      <td>13055.58</td>\n    </tr>\n  </tbody>\n</table>\n<p>3203 rows × 1 columns</p>\n</div>"
     },
     "execution_count": 21,
     "metadata": {},
     "output_type": "execute_result"
    }
   ],
   "source": [
    "monthly_internet"
   ],
   "metadata": {
    "collapsed": false,
    "pycharm": {
     "name": "#%%\n"
    }
   }
  },
  {
   "cell_type": "markdown",
   "metadata": {},
   "source": [
    "### Группировка данных по пользователям."
   ]
  },
  {
   "cell_type": "code",
   "execution_count": 22,
   "metadata": {
    "scrolled": true
   },
   "outputs": [
    {
     "data": {
      "text/plain": "   user_id  month  calls  duration  messages_sum  traffic_sum tariff\n0     1000      5   22.0     159.0          22.0      2253.49  ultra\n1     1000      6   43.0     172.0          43.0     23233.77  ultra\n2     1000      7   47.0     340.0          47.0     14003.64  ultra\n3     1000      8   52.0     408.0          52.0     14055.93  ultra\n4     1000      9   58.0     466.0          58.0     14568.91  ultra",
      "text/html": "<div>\n<style scoped>\n    .dataframe tbody tr th:only-of-type {\n        vertical-align: middle;\n    }\n\n    .dataframe tbody tr th {\n        vertical-align: top;\n    }\n\n    .dataframe thead th {\n        text-align: right;\n    }\n</style>\n<table border=\"1\" class=\"dataframe\">\n  <thead>\n    <tr style=\"text-align: right;\">\n      <th></th>\n      <th>user_id</th>\n      <th>month</th>\n      <th>calls</th>\n      <th>duration</th>\n      <th>messages_sum</th>\n      <th>traffic_sum</th>\n      <th>tariff</th>\n    </tr>\n  </thead>\n  <tbody>\n    <tr>\n      <th>0</th>\n      <td>1000</td>\n      <td>5</td>\n      <td>22.0</td>\n      <td>159.0</td>\n      <td>22.0</td>\n      <td>2253.49</td>\n      <td>ultra</td>\n    </tr>\n    <tr>\n      <th>1</th>\n      <td>1000</td>\n      <td>6</td>\n      <td>43.0</td>\n      <td>172.0</td>\n      <td>43.0</td>\n      <td>23233.77</td>\n      <td>ultra</td>\n    </tr>\n    <tr>\n      <th>2</th>\n      <td>1000</td>\n      <td>7</td>\n      <td>47.0</td>\n      <td>340.0</td>\n      <td>47.0</td>\n      <td>14003.64</td>\n      <td>ultra</td>\n    </tr>\n    <tr>\n      <th>3</th>\n      <td>1000</td>\n      <td>8</td>\n      <td>52.0</td>\n      <td>408.0</td>\n      <td>52.0</td>\n      <td>14055.93</td>\n      <td>ultra</td>\n    </tr>\n    <tr>\n      <th>4</th>\n      <td>1000</td>\n      <td>9</td>\n      <td>58.0</td>\n      <td>466.0</td>\n      <td>58.0</td>\n      <td>14568.91</td>\n      <td>ultra</td>\n    </tr>\n  </tbody>\n</table>\n</div>"
     },
     "execution_count": 22,
     "metadata": {},
     "output_type": "execute_result"
    }
   ],
   "source": [
    "monthly_users = monthly_calls.merge(monthly_messages, on=['user_id', 'month'], how='outer')\n",
    "monthly_users = monthly_users.merge(monthly_internet, on=['user_id', 'month'], how='outer')\n",
    "monthly_users = monthly_users.reset_index(drop=False)\n",
    "monthly_users = monthly_users.merge(users[['user_id', 'tariff']], on='user_id', how='left')\n",
    "monthly_users = monthly_users.fillna(0)\n",
    "monthly_users.head()"
   ]
  },
  {
   "cell_type": "markdown",
   "metadata": {},
   "source": [
    "### Расчёт выручки по месяцам."
   ]
  },
  {
   "cell_type": "code",
   "execution_count": 23,
   "metadata": {},
   "outputs": [],
   "source": [
    "def income(row):\n",
    "\n",
    "    duration = row['duration']\n",
    "    messages = row['messages_sum']\n",
    "    traffic = row['traffic_sum']\n",
    "    tariff = row['tariff']\n",
    "\n",
    "    duration_overrun = float(duration - tariffs.query(f'tariff_name == \"{tariff}\"')['minutes_included'])\n",
    "    messages_overrun = float(messages - tariffs.query(f'tariff_name == \"{tariff}\"')['messages_included'])\n",
    "    traffic_overrun = float(traffic - tariffs.query(f'tariff_name == \"{tariff}\"')['mb_per_month_included'])\n",
    "\n",
    "    duration_overrun = duration_overrun if duration_overrun >= 0 else 0\n",
    "    messages_overrun = messages_overrun if messages_overrun >= 0 else 0\n",
    "    traffic_overrun = traffic_overrun if traffic_overrun >= 0 else 0\n",
    "\n",
    "    income = int(\n",
    "        tariffs.query(f'tariff_name == \"{tariff}\"')['rub_per_message'] * messages_overrun +\n",
    "        tariffs.query(f'tariff_name == \"{tariff}\"')['rub_per_gb'] * ((traffic_overrun - 1) // 1024 + 1) +\n",
    "        tariffs.query(f'tariff_name == \"{tariff}\"')['rub_per_minute'] * duration_overrun +\n",
    "        tariffs.query(f'tariff_name == \"{tariff}\"')['rub_monthly_fee']\n",
    "             )\n",
    "\n",
    "    return income"
   ]
  },
  {
   "cell_type": "code",
   "execution_count": 24,
   "metadata": {
    "scrolled": false
   },
   "outputs": [
    {
     "data": {
      "text/plain": "      user_id  month  calls  duration  messages_sum  traffic_sum tariff  \\\n0        1000      5   22.0     159.0          22.0      2253.49  ultra   \n1        1000      6   43.0     172.0          43.0     23233.77  ultra   \n2        1000      7   47.0     340.0          47.0     14003.64  ultra   \n3        1000      8   52.0     408.0          52.0     14055.93  ultra   \n4        1000      9   58.0     466.0          58.0     14568.91  ultra   \n...       ...    ...    ...       ...           ...          ...    ...   \n3209     1489      8    0.0       0.0           0.0     11050.56  smart   \n3210     1489      9    0.0       0.0           0.0     17206.30  smart   \n3211     1489     10    0.0       0.0           0.0     19559.44  smart   \n3212     1489     11    0.0       0.0           0.0     17491.56  smart   \n3213     1489     12    0.0       0.0           0.0     17322.51  smart   \n\n      income  \n0       1950  \n1       1950  \n2       1950  \n3       1950  \n4       1950  \n...      ...  \n3209     550  \n3210     950  \n3211    1550  \n3212    1150  \n3213     950  \n\n[3214 rows x 8 columns]",
      "text/html": "<div>\n<style scoped>\n    .dataframe tbody tr th:only-of-type {\n        vertical-align: middle;\n    }\n\n    .dataframe tbody tr th {\n        vertical-align: top;\n    }\n\n    .dataframe thead th {\n        text-align: right;\n    }\n</style>\n<table border=\"1\" class=\"dataframe\">\n  <thead>\n    <tr style=\"text-align: right;\">\n      <th></th>\n      <th>user_id</th>\n      <th>month</th>\n      <th>calls</th>\n      <th>duration</th>\n      <th>messages_sum</th>\n      <th>traffic_sum</th>\n      <th>tariff</th>\n      <th>income</th>\n    </tr>\n  </thead>\n  <tbody>\n    <tr>\n      <th>0</th>\n      <td>1000</td>\n      <td>5</td>\n      <td>22.0</td>\n      <td>159.0</td>\n      <td>22.0</td>\n      <td>2253.49</td>\n      <td>ultra</td>\n      <td>1950</td>\n    </tr>\n    <tr>\n      <th>1</th>\n      <td>1000</td>\n      <td>6</td>\n      <td>43.0</td>\n      <td>172.0</td>\n      <td>43.0</td>\n      <td>23233.77</td>\n      <td>ultra</td>\n      <td>1950</td>\n    </tr>\n    <tr>\n      <th>2</th>\n      <td>1000</td>\n      <td>7</td>\n      <td>47.0</td>\n      <td>340.0</td>\n      <td>47.0</td>\n      <td>14003.64</td>\n      <td>ultra</td>\n      <td>1950</td>\n    </tr>\n    <tr>\n      <th>3</th>\n      <td>1000</td>\n      <td>8</td>\n      <td>52.0</td>\n      <td>408.0</td>\n      <td>52.0</td>\n      <td>14055.93</td>\n      <td>ultra</td>\n      <td>1950</td>\n    </tr>\n    <tr>\n      <th>4</th>\n      <td>1000</td>\n      <td>9</td>\n      <td>58.0</td>\n      <td>466.0</td>\n      <td>58.0</td>\n      <td>14568.91</td>\n      <td>ultra</td>\n      <td>1950</td>\n    </tr>\n    <tr>\n      <th>...</th>\n      <td>...</td>\n      <td>...</td>\n      <td>...</td>\n      <td>...</td>\n      <td>...</td>\n      <td>...</td>\n      <td>...</td>\n      <td>...</td>\n    </tr>\n    <tr>\n      <th>3209</th>\n      <td>1489</td>\n      <td>8</td>\n      <td>0.0</td>\n      <td>0.0</td>\n      <td>0.0</td>\n      <td>11050.56</td>\n      <td>smart</td>\n      <td>550</td>\n    </tr>\n    <tr>\n      <th>3210</th>\n      <td>1489</td>\n      <td>9</td>\n      <td>0.0</td>\n      <td>0.0</td>\n      <td>0.0</td>\n      <td>17206.30</td>\n      <td>smart</td>\n      <td>950</td>\n    </tr>\n    <tr>\n      <th>3211</th>\n      <td>1489</td>\n      <td>10</td>\n      <td>0.0</td>\n      <td>0.0</td>\n      <td>0.0</td>\n      <td>19559.44</td>\n      <td>smart</td>\n      <td>1550</td>\n    </tr>\n    <tr>\n      <th>3212</th>\n      <td>1489</td>\n      <td>11</td>\n      <td>0.0</td>\n      <td>0.0</td>\n      <td>0.0</td>\n      <td>17491.56</td>\n      <td>smart</td>\n      <td>1150</td>\n    </tr>\n    <tr>\n      <th>3213</th>\n      <td>1489</td>\n      <td>12</td>\n      <td>0.0</td>\n      <td>0.0</td>\n      <td>0.0</td>\n      <td>17322.51</td>\n      <td>smart</td>\n      <td>950</td>\n    </tr>\n  </tbody>\n</table>\n<p>3214 rows × 8 columns</p>\n</div>"
     },
     "execution_count": 24,
     "metadata": {},
     "output_type": "execute_result"
    }
   ],
   "source": [
    "monthly_users['income'] = monthly_users.apply(income, axis=1)\n",
    "monthly_users"
   ]
  },
  {
   "cell_type": "markdown",
   "metadata": {},
   "source": [
    "### Расчёт медианных значений по каждому пользователю."
   ]
  },
  {
   "cell_type": "code",
   "execution_count": 25,
   "metadata": {},
   "outputs": [
    {
     "data": {
      "text/plain": "   user_id  duration  income  messages_sum  traffic_sum tariff\n0     1000     339.0  1950.0          46.5     14312.42  ultra\n1     1001     422.0   883.0          61.0     16233.00  smart\n2     1002     214.0  1150.0          33.0     17580.10  smart\n3     1003     824.0  1950.0         108.0     11356.89  ultra\n4     1004     132.5  1950.0          21.5     17810.53  ultra",
      "text/html": "<div>\n<style scoped>\n    .dataframe tbody tr th:only-of-type {\n        vertical-align: middle;\n    }\n\n    .dataframe tbody tr th {\n        vertical-align: top;\n    }\n\n    .dataframe thead th {\n        text-align: right;\n    }\n</style>\n<table border=\"1\" class=\"dataframe\">\n  <thead>\n    <tr style=\"text-align: right;\">\n      <th></th>\n      <th>user_id</th>\n      <th>duration</th>\n      <th>income</th>\n      <th>messages_sum</th>\n      <th>traffic_sum</th>\n      <th>tariff</th>\n    </tr>\n  </thead>\n  <tbody>\n    <tr>\n      <th>0</th>\n      <td>1000</td>\n      <td>339.0</td>\n      <td>1950.0</td>\n      <td>46.5</td>\n      <td>14312.42</td>\n      <td>ultra</td>\n    </tr>\n    <tr>\n      <th>1</th>\n      <td>1001</td>\n      <td>422.0</td>\n      <td>883.0</td>\n      <td>61.0</td>\n      <td>16233.00</td>\n      <td>smart</td>\n    </tr>\n    <tr>\n      <th>2</th>\n      <td>1002</td>\n      <td>214.0</td>\n      <td>1150.0</td>\n      <td>33.0</td>\n      <td>17580.10</td>\n      <td>smart</td>\n    </tr>\n    <tr>\n      <th>3</th>\n      <td>1003</td>\n      <td>824.0</td>\n      <td>1950.0</td>\n      <td>108.0</td>\n      <td>11356.89</td>\n      <td>ultra</td>\n    </tr>\n    <tr>\n      <th>4</th>\n      <td>1004</td>\n      <td>132.5</td>\n      <td>1950.0</td>\n      <td>21.5</td>\n      <td>17810.53</td>\n      <td>ultra</td>\n    </tr>\n  </tbody>\n</table>\n</div>"
     },
     "execution_count": 25,
     "metadata": {},
     "output_type": "execute_result"
    }
   ],
   "source": [
    "median_users = monthly_users.pivot_table(\n",
    "    index='user_id',\n",
    "    values=['duration', 'messages_sum', 'traffic_sum', 'income'],\n",
    "    aggfunc='median'\n",
    ")\n",
    "median_users = median_users.merge(users[['user_id', 'tariff',]], on='user_id', how='left')\n",
    "median_users.head()"
   ]
  },
  {
   "cell_type": "markdown",
   "metadata": {},
   "source": [
    "### Расчёт медианных значений по каждому тарифу."
   ]
  },
  {
   "cell_type": "code",
   "execution_count": 26,
   "metadata": {},
   "outputs": [
    {
     "data": {
      "text/plain": "        duration  messages_sum  traffic_sum  income  rub_monthly_fee\ntariff                                                              \nsmart        437            61        16831    1337              550\nultra        557            77        20303    2061             1950",
      "text/html": "<div>\n<style scoped>\n    .dataframe tbody tr th:only-of-type {\n        vertical-align: middle;\n    }\n\n    .dataframe tbody tr th {\n        vertical-align: top;\n    }\n\n    .dataframe thead th {\n        text-align: right;\n    }\n</style>\n<table border=\"1\" class=\"dataframe\">\n  <thead>\n    <tr style=\"text-align: right;\">\n      <th></th>\n      <th>duration</th>\n      <th>messages_sum</th>\n      <th>traffic_sum</th>\n      <th>income</th>\n      <th>rub_monthly_fee</th>\n    </tr>\n    <tr>\n      <th>tariff</th>\n      <th></th>\n      <th></th>\n      <th></th>\n      <th></th>\n      <th></th>\n    </tr>\n  </thead>\n  <tbody>\n    <tr>\n      <th>smart</th>\n      <td>437</td>\n      <td>61</td>\n      <td>16831</td>\n      <td>1337</td>\n      <td>550</td>\n    </tr>\n    <tr>\n      <th>ultra</th>\n      <td>557</td>\n      <td>77</td>\n      <td>20303</td>\n      <td>2061</td>\n      <td>1950</td>\n    </tr>\n  </tbody>\n</table>\n</div>"
     },
     "execution_count": 26,
     "metadata": {},
     "output_type": "execute_result"
    }
   ],
   "source": [
    "median_tariff = median_users.pivot_table(\n",
    "    index='tariff',\n",
    "    values=['duration', 'messages_sum', 'traffic_sum', 'income'],\n",
    ")\n",
    "median_tariff['duration'] = median_tariff['duration'].astype('int')\n",
    "median_tariff['messages_sum'] = median_tariff['messages_sum'].astype('int')\n",
    "median_tariff['traffic_sum'] = median_tariff['traffic_sum'].astype('int')\n",
    "median_tariff['income'] = median_tariff['income'].astype('int')\n",
    "median_tariff['rub_monthly_fee'] = [550, 1950]\n",
    "median_tariff = median_tariff.reindex(\n",
    "    columns=[\n",
    "        'duration',\n",
    "        'messages_sum',\n",
    "        'traffic_sum',\n",
    "        'income',\n",
    "        'rub_monthly_fee'\n",
    "    ])\n",
    "median_tariff"
   ]
  },
  {
   "cell_type": "markdown",
   "metadata": {},
   "source": [
    "***\n",
    "### Вывод\n",
    "\n",
    "* Сгруппировал данные по месяцам и свёл все данные в новую таблицу `monthly_users`.\n",
    "* Рассчитал выручку по каждому клиенту, всё готово к анализу.\n",
    "* Рассчитал медианные значения по каждому тарифу.\n",
    "   - Видно, что пользователям тарифа «Смарт» намного чаще не хватает стандартного пакета и им приходится «докупать» услуги.<br>\n",
    "***"
   ]
  },
  {
   "cell_type": "markdown",
   "metadata": {},
   "source": [
    "## Анализ данных"
   ]
  },
  {
   "cell_type": "code",
   "execution_count": 27,
   "metadata": {},
   "outputs": [
    {
     "data": {
      "text/plain": "<Figure size 1800x500 with 3 Axes>",
      "image/png": "[encoded data removed]"
     },
     "metadata": {},
     "output_type": "display_data"
    }
   ],
   "source": [
    "fig, axes = plt.subplots(1, 3, figsize=(18, 5))\n",
    "sns.boxplot(ax=axes[0], data=monthly_users, x='tariff', y='duration', palette='viridis')\n",
    "axes[0].set_title('звонки')\n",
    "sns.boxplot(ax=axes[1], data=monthly_users, x='tariff', y='messages_sum', palette='viridis')\n",
    "axes[1].set_title('сообщения')\n",
    "sns.boxplot(ax=axes[2], data=monthly_users, x='tariff', y='traffic_sum', palette='viridis')\n",
    "axes[2].set_title('трафик')\n",
    "plt.show()"
   ]
  },
  {
   "cell_type": "code",
   "execution_count": 28,
   "metadata": {},
   "outputs": [],
   "source": [
    "smart = monthly_users.query('tariff == \"smart\"')\n",
    "ultra = monthly_users.query('tariff == \"ultra\"')"
   ]
  },
  {
   "cell_type": "code",
   "execution_count": 29,
   "metadata": {},
   "outputs": [
    {
     "data": {
      "text/plain": "<Figure size 1400x500 with 1 Axes>",
      "image/png": "[encoded data removed]"
     },
     "metadata": {},
     "output_type": "display_data"
    },
    {
     "name": "stdout",
     "output_type": "stream",
     "text": [
      "ultra_limit = 3000 минут\n"
     ]
    }
   ],
   "source": [
    "smart_limit = tariffs.query('tariff_name == \"smart\"')['minutes_included'][0]\n",
    "plt.figure(figsize=(14, 5))\n",
    "sns.histplot(smart['duration'], kde=False)\n",
    "sns.histplot(ultra['duration'], kde=False)\n",
    "plt.axvline(x=smart_limit, c='blue')\n",
    "plt.legend(['smart_limit', 'smart', 'ultra'])\n",
    "plt.xlabel('количество минут')\n",
    "plt.ylabel('количество пользователей')\n",
    "plt.title('Гистограмма звонков')\n",
    "plt.show()\n",
    "print('ultra_limit = 3000 минут')"
   ]
  },
  {
   "cell_type": "code",
   "execution_count": 30,
   "metadata": {},
   "outputs": [
    {
     "data": {
      "text/plain": "<Figure size 1400x500 with 1 Axes>",
      "image/png": "[encoded data removed]"
     },
     "metadata": {},
     "output_type": "display_data"
    },
    {
     "name": "stdout",
     "output_type": "stream",
     "text": [
      "ultra_limit = 1000 сообщений\n"
     ]
    }
   ],
   "source": [
    "smart_limit = tariffs.query('tariff_name == \"smart\"')['messages_included'][0]\n",
    "plt.figure(figsize=(14, 5))\n",
    "sns.histplot(smart['messages_sum'], kde=False)\n",
    "sns.histplot(ultra['messages_sum'], kde=False)\n",
    "plt.axvline(x=smart_limit, c='blue')\n",
    "plt.legend(['smart_limit', 'smart', 'ultra'])\n",
    "plt.xlabel('количество сообщений')\n",
    "plt.ylabel('количество пользователей')\n",
    "plt.title('Гистограмма сообщений')\n",
    "plt.show()\n",
    "print('ultra_limit = 1000 сообщений')"
   ]
  },
  {
   "cell_type": "code",
   "execution_count": 31,
   "metadata": {},
   "outputs": [
    {
     "data": {
      "text/plain": "<Figure size 1400x500 with 1 Axes>",
      "image/png": "[encoded data removed]"
     },
     "metadata": {},
     "output_type": "display_data"
    }
   ],
   "source": [
    "smart_limit = tariffs.query('tariff_name == \"smart\"')['mb_per_month_included'][0]\n",
    "ultra_limit = tariffs.query('tariff_name == \"ultra\"')['mb_per_month_included'][1]\n",
    "plt.figure(figsize=(14, 5))\n",
    "sns.histplot(smart['traffic_sum'], kde=False)\n",
    "sns.histplot(ultra['traffic_sum'], kde=False)\n",
    "plt.axvline(x=smart_limit, c='blue')\n",
    "plt.axvline(x=ultra_limit, c='orange')\n",
    "plt.legend(['smart_limit', 'ultra_limit', 'smart', 'ultra'])\n",
    "plt.xlabel('количество мб')\n",
    "plt.ylabel('количество пользователей')\n",
    "plt.title('Гистограмма трафика')\n",
    "plt.show()"
   ]
  },
  {
   "cell_type": "markdown",
   "metadata": {},
   "source": [
    "***\n",
    "### Вывод\n",
    "\n",
    "Из графиков видно:\n",
    "* Количество клиентов, у которых потребление услуг выше медианного значения, больше у клиентов тарифа «Ультра».\n",
    "* Потребление услуг клиентами тарифа «Ультра» более распределено по сравнению с клиентами «Смарт».\n",
    "* Потребление услуг клиентов тарифа «Смарт» сконцентрировано вокруг ограничения пакета.  \n",
    "   При этом б́ольшая часть клиентов превышает лимит.<br><br>\n",
    "***"
   ]
  },
  {
   "cell_type": "markdown",
   "metadata": {},
   "source": [
    "## Проверка гипотез"
   ]
  },
  {
   "cell_type": "markdown",
   "metadata": {},
   "source": [
    "### Гипотеза №1. Средняя выручка пользователей тарифов «Ультра» и «Смарт» различаются.\n",
    "\n",
    "H0: Средняя выручка пользователей тарифов «Ультра» и «Смарт» равны.  \n",
    "H1: Средняя выручка пользователей тарифов «Ультра» и «Смарт» различаются.  \n",
    "Критический уровень статистической значимости принимаю равным 5%.  \n",
    "Чтобы проверить гипотезу о равенстве среднего двух генеральных совокупностей,  \n",
    "применю метод `scipy.stats.ttest_ind()`  "
   ]
  },
  {
   "cell_type": "code",
   "execution_count": 32,
   "metadata": {},
   "outputs": [
    {
     "name": "stdout",
     "output_type": "stream",
     "text": [
      "p-значение: 0.000000%\n",
      "Отвергаем нулевую гипотезу.\n",
      "Средняя выручка пользователей тарифов «Ультра» и «Смарт» различаются.\n"
     ]
    }
   ],
   "source": [
    "alpha = .05\n",
    "results = st.ttest_ind(smart['income'], ultra['income'], equal_var=False)\n",
    "print('p-значение: {:%}'.format(results.pvalue))\n",
    "if results.pvalue < alpha:\n",
    "    print(\"Отвергаем нулевую гипотезу.\")\n",
    "    print(\"Средняя выручка пользователей тарифов «Ультра» и «Смарт» различаются.\")\n",
    "else:\n",
    "    print(\"Не получилось отвергнуть нулевую гипотезу.\")\n",
    "    print(\"Средняя выручка пользователей тарифов «Ультра» и «Смарт» равны.\")"
   ]
  },
  {
   "cell_type": "markdown",
   "metadata": {},
   "source": [
    "### Гипотеза №2. Cредняя выручка пользователей из Москвы отличается от выручки пользователей из других регионов.\n",
    "\n",
    "H0: Cредняя выручка пользователей из Москвы не отличается от выручки пользователей из других регионов.  \n",
    "H1: Cредняя выручка пользователей из Москвы отличается от выручки пользователей из других регионов.  \n",
    "Критический уровень статистической значимости принимаю равным 5%.  \n",
    "Чтобы проверить гипотезу о равенстве среднего двух генеральных совокупностей,  \n",
    "применю метод `scipy.stats.ttest_ind()`  "
   ]
  },
  {
   "cell_type": "code",
   "execution_count": 33,
   "metadata": {},
   "outputs": [
    {
     "name": "stdout",
     "output_type": "stream",
     "text": [
      "p-значение: 53.05%\n",
      "Не получилось отвергнуть нулевую гипотезу.\n",
      "Cредняя выручка пользователей из Москвы не отличается от выручки пользователей из других регионов.\n"
     ]
    }
   ],
   "source": [
    "alpha = .05\n",
    "moscow = monthly_users.merge(users[['user_id', 'city',]], on='user_id', how='left').query('city == \"Москва\"')['income']\n",
    "not_moscow = monthly_users.merge(users[['user_id', 'city',]], on='user_id', how='left').query('city != \"Москва\"')['income']\n",
    "results = st.ttest_ind(moscow, not_moscow, equal_var=False)\n",
    "print('p-значение: {:.2%}'.format(results.pvalue))\n",
    "if results.pvalue < alpha:\n",
    "    print(\"Отвергаем нулевую гипотезу.\")\n",
    "    print(\"Cредняя выручка пользователей из Москвы отличается от выручки пользователей из других регионов.\")\n",
    "else:\n",
    "    print(\"Не получилось отвергнуть нулевую гипотезу.\")\n",
    "    print(\"Cредняя выручка пользователей из Москвы не отличается от выручки пользователей из других регионов.\")"
   ]
  },
  {
   "cell_type": "markdown",
   "metadata": {},
   "source": [
    "## Общий вывод"
   ]
  },
  {
   "cell_type": "markdown",
   "metadata": {
    "pycharm": {
     "name": "#%% md\n"
    }
   },
   "source": [
    "* Медианная выручка тарифа «Ультра» больше, чем выручка тарифа «Смарт» (2061 руб. > 1337 руб.)\n",
    "* Клиенты тарифа «Ультра» не «выбирают» полностью пакеты услуг по звонкам и по сообщениям,  \n",
    "   и основная масса не перерасходует лимит по трафику.\n",
    "* Большинство клиентов тарифа «Смарт» превышают лимиты пакетов услуг.\n",
    "* Клиентов тарифа «Смарт» практически в два раза больше клиентов «Ультра».\n",
    "* Cредняя выручка пользователей из Москвы не отличается от выручки пользователей из других регионов.\n",
    "* Тариф «Ультра» более выгоден, исходя из того, что клиенты «Ультра» не перерасходуют лимиты по пакетам услуг и при этом выручка больше, чем по тарифу «Смарт».\n",
    "* Возраст, дата подключения тарифа и дата отключения таблицы `users` не понадобились для анализа."
   ]
  }
 ],
 "metadata": {
  "ExecuteTimeLog": [
   {
    "duration": 1142,
    "start_time": "2022-02-11T16:33:59.245Z"
   },
   {
    "duration": 397,
    "start_time": "2022-02-11T16:34:00.389Z"
   },
   {
    "duration": 4,
    "start_time": "2022-02-11T16:34:00.789Z"
   },
   {
    "duration": 113,
    "start_time": "2022-02-11T16:34:00.795Z"
   },
   {
    "duration": 15,
    "start_time": "2022-02-11T16:34:47.211Z"
   },
   {
    "duration": 22,
    "start_time": "2022-02-11T16:40:57.419Z"
   },
   {
    "duration": 357,
    "start_time": "2022-02-11T16:49:30.225Z"
   },
   {
    "duration": 274,
    "start_time": "2022-02-11T16:49:57.078Z"
   },
   {
    "duration": 4,
    "start_time": "2022-02-11T16:51:33.745Z"
   },
   {
    "duration": 5,
    "start_time": "2022-02-11T16:51:38.514Z"
   },
   {
    "duration": 102,
    "start_time": "2022-02-11T16:51:40.651Z"
   },
   {
    "duration": 4,
    "start_time": "2022-02-11T16:51:56.387Z"
   },
   {
    "duration": 97,
    "start_time": "2022-02-11T16:51:56.852Z"
   },
   {
    "duration": 5,
    "start_time": "2022-02-11T16:53:51.921Z"
   },
   {
    "duration": 139,
    "start_time": "2022-02-11T16:53:52.431Z"
   },
   {
    "duration": 5,
    "start_time": "2022-02-11T16:54:27.771Z"
   },
   {
    "duration": 5,
    "start_time": "2022-02-11T16:54:28.507Z"
   },
   {
    "duration": 81,
    "start_time": "2022-02-11T16:54:29.068Z"
   },
   {
    "duration": 6,
    "start_time": "2022-02-11T16:55:45.899Z"
   },
   {
    "duration": 5,
    "start_time": "2022-02-11T16:56:56.107Z"
   },
   {
    "duration": 79,
    "start_time": "2022-02-11T16:56:56.779Z"
   },
   {
    "duration": 6,
    "start_time": "2022-02-11T16:57:17.183Z"
   },
   {
    "duration": 84,
    "start_time": "2022-02-11T16:57:17.550Z"
   },
   {
    "duration": 5,
    "start_time": "2022-02-11T16:57:41.232Z"
   },
   {
    "duration": 82,
    "start_time": "2022-02-11T16:57:41.672Z"
   },
   {
    "duration": 1210,
    "start_time": "2022-02-11T16:57:57.917Z"
   },
   {
    "duration": 411,
    "start_time": "2022-02-11T16:57:59.129Z"
   },
   {
    "duration": 5,
    "start_time": "2022-02-11T16:57:59.542Z"
   },
   {
    "duration": 97,
    "start_time": "2022-02-11T16:57:59.549Z"
   },
   {
    "duration": 55,
    "start_time": "2022-02-11T16:57:59.648Z"
   },
   {
    "duration": 1169,
    "start_time": "2022-02-11T16:58:10.818Z"
   },
   {
    "duration": 396,
    "start_time": "2022-02-11T16:58:11.989Z"
   },
   {
    "duration": 6,
    "start_time": "2022-02-11T16:58:12.387Z"
   },
   {
    "duration": 120,
    "start_time": "2022-02-11T16:58:12.395Z"
   },
   {
    "duration": 23,
    "start_time": "2022-02-11T16:58:12.517Z"
   },
   {
    "duration": 5,
    "start_time": "2022-02-11T17:06:40.702Z"
   },
   {
    "duration": 4,
    "start_time": "2022-02-11T17:06:41.069Z"
   },
   {
    "duration": 89,
    "start_time": "2022-02-11T17:06:41.726Z"
   },
   {
    "duration": 86,
    "start_time": "2022-02-11T17:07:15.841Z"
   },
   {
    "duration": 88,
    "start_time": "2022-02-11T17:07:16.258Z"
   },
   {
    "duration": 4,
    "start_time": "2022-02-11T17:07:23.410Z"
   },
   {
    "duration": 82,
    "start_time": "2022-02-11T17:07:23.978Z"
   },
   {
    "duration": 4,
    "start_time": "2022-02-11T17:08:26.080Z"
   },
   {
    "duration": 83,
    "start_time": "2022-02-11T17:08:26.466Z"
   },
   {
    "duration": 4,
    "start_time": "2022-02-11T17:09:23.465Z"
   },
   {
    "duration": 78,
    "start_time": "2022-02-11T17:09:23.831Z"
   },
   {
    "duration": 4,
    "start_time": "2022-02-11T17:09:31.279Z"
   },
   {
    "duration": 81,
    "start_time": "2022-02-11T17:09:31.624Z"
   },
   {
    "duration": 4,
    "start_time": "2022-02-11T17:09:45.019Z"
   },
   {
    "duration": 83,
    "start_time": "2022-02-11T17:09:45.282Z"
   },
   {
    "duration": 4,
    "start_time": "2022-02-11T17:10:07.579Z"
   },
   {
    "duration": 85,
    "start_time": "2022-02-11T17:10:07.980Z"
   },
   {
    "duration": 88,
    "start_time": "2022-02-11T17:10:13.917Z"
   },
   {
    "duration": 1209,
    "start_time": "2022-02-11T17:13:30.374Z"
   },
   {
    "duration": 402,
    "start_time": "2022-02-11T17:13:31.585Z"
   },
   {
    "duration": 4,
    "start_time": "2022-02-11T17:13:31.989Z"
   },
   {
    "duration": 11,
    "start_time": "2022-02-11T17:13:31.995Z"
   },
   {
    "duration": 121,
    "start_time": "2022-02-11T17:13:32.007Z"
   },
   {
    "duration": 21,
    "start_time": "2022-02-11T17:13:32.130Z"
   },
   {
    "duration": 355,
    "start_time": "2022-02-11T18:22:02.567Z"
   },
   {
    "duration": 37,
    "start_time": "2022-02-11T18:22:12.734Z"
   },
   {
    "duration": 1143,
    "start_time": "2022-02-11T18:25:19.339Z"
   },
   {
    "duration": 404,
    "start_time": "2022-02-11T18:25:20.484Z"
   },
   {
    "duration": 19,
    "start_time": "2022-02-11T18:25:20.890Z"
   },
   {
    "duration": 5,
    "start_time": "2022-02-11T18:25:20.912Z"
   },
   {
    "duration": 10,
    "start_time": "2022-02-11T18:25:20.919Z"
   },
   {
    "duration": 119,
    "start_time": "2022-02-11T18:25:20.931Z"
   },
   {
    "duration": 72,
    "start_time": "2022-02-11T18:25:21.052Z"
   },
   {
    "duration": 18,
    "start_time": "2022-02-11T18:26:30.981Z"
   },
   {
    "duration": 11,
    "start_time": "2022-02-11T18:26:45.629Z"
   },
   {
    "duration": 1202,
    "start_time": "2022-02-11T19:04:10.774Z"
   },
   {
    "duration": 412,
    "start_time": "2022-02-11T19:04:11.978Z"
   },
   {
    "duration": 4,
    "start_time": "2022-02-11T19:04:12.393Z"
   },
   {
    "duration": 13,
    "start_time": "2022-02-11T19:04:12.399Z"
   },
   {
    "duration": 114,
    "start_time": "2022-02-11T19:04:12.414Z"
   },
   {
    "duration": 36,
    "start_time": "2022-02-11T19:04:12.530Z"
   },
   {
    "duration": 39,
    "start_time": "2022-02-11T19:04:12.567Z"
   },
   {
    "duration": 225,
    "start_time": "2022-02-13T14:46:01.148Z"
   },
   {
    "duration": 1152,
    "start_time": "2022-02-13T14:46:23.406Z"
   },
   {
    "duration": 338,
    "start_time": "2022-02-13T14:46:24.560Z"
   },
   {
    "duration": 5,
    "start_time": "2022-02-13T14:46:24.900Z"
   },
   {
    "duration": 7,
    "start_time": "2022-02-13T14:46:24.906Z"
   },
   {
    "duration": 110,
    "start_time": "2022-02-13T14:46:24.915Z"
   },
   {
    "duration": 63,
    "start_time": "2022-02-13T14:46:25.026Z"
   },
   {
    "duration": 19,
    "start_time": "2022-02-13T14:46:40.105Z"
   },
   {
    "duration": 1089,
    "start_time": "2022-02-13T14:48:20.382Z"
   },
   {
    "duration": 337,
    "start_time": "2022-02-13T14:48:21.473Z"
   },
   {
    "duration": 5,
    "start_time": "2022-02-13T14:48:21.813Z"
   },
   {
    "duration": 12,
    "start_time": "2022-02-13T14:48:21.820Z"
   },
   {
    "duration": 100,
    "start_time": "2022-02-13T14:48:21.834Z"
   },
   {
    "duration": 102,
    "start_time": "2022-02-13T14:48:21.936Z"
   },
   {
    "duration": 18,
    "start_time": "2022-02-13T14:48:22.040Z"
   },
   {
    "duration": 1006,
    "start_time": "2022-02-13T14:50:15.556Z"
   },
   {
    "duration": 337,
    "start_time": "2022-02-13T14:50:16.563Z"
   },
   {
    "duration": 4,
    "start_time": "2022-02-13T14:50:16.903Z"
   },
   {
    "duration": 9,
    "start_time": "2022-02-13T14:50:16.909Z"
   },
   {
    "duration": 98,
    "start_time": "2022-02-13T14:50:16.920Z"
   },
   {
    "duration": 94,
    "start_time": "2022-02-13T14:50:17.020Z"
   },
   {
    "duration": 19,
    "start_time": "2022-02-13T14:50:17.116Z"
   },
   {
    "duration": 1064,
    "start_time": "2022-02-13T14:50:46.226Z"
   },
   {
    "duration": 329,
    "start_time": "2022-02-13T14:50:47.291Z"
   },
   {
    "duration": 5,
    "start_time": "2022-02-13T14:50:47.623Z"
   },
   {
    "duration": 7,
    "start_time": "2022-02-13T14:50:47.630Z"
   },
   {
    "duration": 108,
    "start_time": "2022-02-13T14:50:47.638Z"
   },
   {
    "duration": 123,
    "start_time": "2022-02-13T14:50:47.748Z"
   },
   {
    "duration": 18,
    "start_time": "2022-02-13T14:50:47.873Z"
   },
   {
    "duration": 42,
    "start_time": "2022-02-13T14:51:04.391Z"
   },
   {
    "duration": 34,
    "start_time": "2022-02-13T14:51:12.303Z"
   },
   {
    "duration": 34,
    "start_time": "2022-02-13T14:51:18.847Z"
   },
   {
    "duration": 33,
    "start_time": "2022-02-13T14:53:05.427Z"
   },
   {
    "duration": 33,
    "start_time": "2022-02-13T14:53:28.951Z"
   },
   {
    "duration": 34,
    "start_time": "2022-02-13T14:53:39.150Z"
   },
   {
    "duration": 35,
    "start_time": "2022-02-13T14:54:16.051Z"
   },
   {
    "duration": 18,
    "start_time": "2022-02-13T14:54:16.338Z"
   },
   {
    "duration": 24,
    "start_time": "2022-02-13T14:54:57.621Z"
   },
   {
    "duration": 25,
    "start_time": "2022-02-13T14:55:08.418Z"
   },
   {
    "duration": 35,
    "start_time": "2022-02-13T14:57:00.324Z"
   },
   {
    "duration": 33,
    "start_time": "2022-02-13T15:02:43.425Z"
   },
   {
    "duration": 52,
    "start_time": "2022-02-13T15:03:09.179Z"
   },
   {
    "duration": 58,
    "start_time": "2022-02-13T15:04:27.787Z"
   },
   {
    "duration": 60,
    "start_time": "2022-02-13T15:04:31.052Z"
   },
   {
    "duration": 57,
    "start_time": "2022-02-13T15:04:31.715Z"
   },
   {
    "duration": 57,
    "start_time": "2022-02-13T15:04:32.182Z"
   },
   {
    "duration": 56,
    "start_time": "2022-02-13T15:04:32.947Z"
   },
   {
    "duration": 58,
    "start_time": "2022-02-13T15:04:33.634Z"
   },
   {
    "duration": 24,
    "start_time": "2022-02-13T15:06:22.607Z"
   },
   {
    "duration": 36,
    "start_time": "2022-02-13T15:09:20.115Z"
   },
   {
    "duration": 37,
    "start_time": "2022-02-13T15:09:28.570Z"
   },
   {
    "duration": 24,
    "start_time": "2022-02-13T15:09:29.170Z"
   },
   {
    "duration": 39,
    "start_time": "2022-02-13T15:11:05.519Z"
   },
   {
    "duration": 1050,
    "start_time": "2022-02-13T15:22:29.216Z"
   },
   {
    "duration": 345,
    "start_time": "2022-02-13T15:22:30.268Z"
   },
   {
    "duration": 4,
    "start_time": "2022-02-13T15:22:30.615Z"
   },
   {
    "duration": 26,
    "start_time": "2022-02-13T15:22:30.622Z"
   },
   {
    "duration": 99,
    "start_time": "2022-02-13T15:22:30.650Z"
   },
   {
    "duration": 300,
    "start_time": "2022-02-13T15:22:30.751Z"
   },
   {
    "duration": -52,
    "start_time": "2022-02-13T15:22:31.105Z"
   },
   {
    "duration": -57,
    "start_time": "2022-02-13T15:22:31.111Z"
   },
   {
    "duration": -58,
    "start_time": "2022-02-13T15:22:31.113Z"
   },
   {
    "duration": 1091,
    "start_time": "2022-02-13T15:23:28.350Z"
   },
   {
    "duration": 329,
    "start_time": "2022-02-13T15:23:29.443Z"
   },
   {
    "duration": 5,
    "start_time": "2022-02-13T15:23:29.773Z"
   },
   {
    "duration": 6,
    "start_time": "2022-02-13T15:23:29.780Z"
   },
   {
    "duration": 94,
    "start_time": "2022-02-13T15:23:29.787Z"
   },
   {
    "duration": 85,
    "start_time": "2022-02-13T15:23:29.883Z"
   },
   {
    "duration": 23,
    "start_time": "2022-02-13T15:23:29.970Z"
   },
   {
    "duration": 10,
    "start_time": "2022-02-13T15:23:51.127Z"
   },
   {
    "duration": 41,
    "start_time": "2022-02-13T15:23:57.017Z"
   },
   {
    "duration": 33,
    "start_time": "2022-02-13T15:23:58.216Z"
   },
   {
    "duration": 45,
    "start_time": "2022-02-13T15:23:58.545Z"
   },
   {
    "duration": 10,
    "start_time": "2022-02-13T15:23:59.496Z"
   },
   {
    "duration": 299,
    "start_time": "2022-02-13T15:29:09.089Z"
   },
   {
    "duration": 17,
    "start_time": "2022-02-13T15:29:36.205Z"
   },
   {
    "duration": 17,
    "start_time": "2022-02-13T15:29:46.309Z"
   },
   {
    "duration": 13,
    "start_time": "2022-02-13T15:29:56.559Z"
   },
   {
    "duration": 10,
    "start_time": "2022-02-13T15:30:06.199Z"
   },
   {
    "duration": 12,
    "start_time": "2022-02-13T15:30:06.879Z"
   },
   {
    "duration": 1985,
    "start_time": "2022-02-13T15:30:18.059Z"
   },
   {
    "duration": 9,
    "start_time": "2022-02-13T15:30:29.491Z"
   },
   {
    "duration": 202,
    "start_time": "2022-02-13T15:30:59.901Z"
   },
   {
    "duration": 8,
    "start_time": "2022-02-13T15:31:01.238Z"
   },
   {
    "duration": 1099,
    "start_time": "2022-02-13T15:33:23.110Z"
   },
   {
    "duration": 347,
    "start_time": "2022-02-13T15:33:24.211Z"
   },
   {
    "duration": 4,
    "start_time": "2022-02-13T15:33:24.560Z"
   },
   {
    "duration": 30,
    "start_time": "2022-02-13T15:33:24.566Z"
   },
   {
    "duration": 125,
    "start_time": "2022-02-13T15:33:24.597Z"
   },
   {
    "duration": 57,
    "start_time": "2022-02-13T15:33:24.724Z"
   },
   {
    "duration": 50,
    "start_time": "2022-02-13T15:33:24.783Z"
   },
   {
    "duration": 10,
    "start_time": "2022-02-13T15:33:24.836Z"
   },
   {
    "duration": 22,
    "start_time": "2022-02-13T15:33:24.848Z"
   },
   {
    "duration": 4921,
    "start_time": "2022-02-13T15:33:24.872Z"
   },
   {
    "duration": -98,
    "start_time": "2022-02-13T15:33:29.892Z"
   },
   {
    "duration": 55,
    "start_time": "2022-02-13T15:33:46.337Z"
   },
   {
    "duration": 9,
    "start_time": "2022-02-13T15:33:46.911Z"
   },
   {
    "duration": 39,
    "start_time": "2022-02-13T15:41:58.660Z"
   },
   {
    "duration": 10,
    "start_time": "2022-02-13T15:42:16.614Z"
   },
   {
    "duration": 47,
    "start_time": "2022-02-13T15:42:32.368Z"
   },
   {
    "duration": 8,
    "start_time": "2022-02-13T15:42:50.578Z"
   },
   {
    "duration": 200,
    "start_time": "2022-02-13T15:56:08.122Z"
   },
   {
    "duration": 1053,
    "start_time": "2022-02-13T15:56:24.867Z"
   },
   {
    "duration": 367,
    "start_time": "2022-02-13T15:56:25.922Z"
   },
   {
    "duration": 6,
    "start_time": "2022-02-13T15:56:26.292Z"
   },
   {
    "duration": 9,
    "start_time": "2022-02-13T15:56:26.300Z"
   },
   {
    "duration": 140,
    "start_time": "2022-02-13T15:56:26.311Z"
   },
   {
    "duration": 15,
    "start_time": "2022-02-13T15:56:26.453Z"
   },
   {
    "duration": 87,
    "start_time": "2022-02-13T15:56:26.469Z"
   },
   {
    "duration": 24,
    "start_time": "2022-02-13T15:56:26.557Z"
   },
   {
    "duration": 9,
    "start_time": "2022-02-13T15:56:26.583Z"
   },
   {
    "duration": 26,
    "start_time": "2022-02-13T15:56:26.593Z"
   },
   {
    "duration": 56,
    "start_time": "2022-02-13T15:56:26.621Z"
   },
   {
    "duration": 9,
    "start_time": "2022-02-13T15:56:26.678Z"
   },
   {
    "duration": 61,
    "start_time": "2022-02-13T15:56:26.688Z"
   },
   {
    "duration": 8,
    "start_time": "2022-02-13T15:56:26.751Z"
   },
   {
    "duration": 11,
    "start_time": "2022-02-13T16:01:23.771Z"
   },
   {
    "duration": 10,
    "start_time": "2022-02-13T16:01:36.053Z"
   },
   {
    "duration": 9,
    "start_time": "2022-02-13T16:01:40.877Z"
   },
   {
    "duration": 10,
    "start_time": "2022-02-13T16:01:41.140Z"
   },
   {
    "duration": 7,
    "start_time": "2022-02-13T16:01:54.902Z"
   },
   {
    "duration": 8,
    "start_time": "2022-02-13T16:01:57.126Z"
   },
   {
    "duration": 10,
    "start_time": "2022-02-13T16:01:57.303Z"
   },
   {
    "duration": 260,
    "start_time": "2022-02-13T16:52:02.438Z"
   },
   {
    "duration": 49,
    "start_time": "2022-02-13T16:52:36.513Z"
   },
   {
    "duration": 15,
    "start_time": "2022-02-13T16:52:37.721Z"
   },
   {
    "duration": 8,
    "start_time": "2022-02-13T16:52:50.892Z"
   },
   {
    "duration": 9,
    "start_time": "2022-02-13T16:52:55.581Z"
   },
   {
    "duration": 13,
    "start_time": "2022-02-13T16:53:05.996Z"
   },
   {
    "duration": 40,
    "start_time": "2022-02-13T16:58:26.446Z"
   },
   {
    "duration": 12,
    "start_time": "2022-02-13T16:58:34.343Z"
   },
   {
    "duration": 184,
    "start_time": "2022-02-13T17:38:07.190Z"
   },
   {
    "duration": 24,
    "start_time": "2022-02-13T17:38:37.022Z"
   },
   {
    "duration": 21,
    "start_time": "2022-02-13T17:38:40.776Z"
   },
   {
    "duration": 13,
    "start_time": "2022-02-13T17:38:46.727Z"
   },
   {
    "duration": 21,
    "start_time": "2022-02-13T17:38:57.713Z"
   },
   {
    "duration": 22,
    "start_time": "2022-02-13T17:38:58.904Z"
   },
   {
    "duration": 13,
    "start_time": "2022-02-13T17:38:59.120Z"
   },
   {
    "duration": 11,
    "start_time": "2022-02-13T17:42:03.367Z"
   },
   {
    "duration": 18,
    "start_time": "2022-02-13T17:42:03.779Z"
   },
   {
    "duration": 17,
    "start_time": "2022-02-13T17:42:55.659Z"
   },
   {
    "duration": 17,
    "start_time": "2022-02-13T17:42:56.122Z"
   },
   {
    "duration": 6,
    "start_time": "2022-02-13T17:44:37.912Z"
   },
   {
    "duration": 17,
    "start_time": "2022-02-13T17:44:55.438Z"
   },
   {
    "duration": 16,
    "start_time": "2022-02-13T17:45:34.890Z"
   },
   {
    "duration": 7,
    "start_time": "2022-02-13T17:45:48.483Z"
   },
   {
    "duration": 16,
    "start_time": "2022-02-13T17:45:49.589Z"
   },
   {
    "duration": 6,
    "start_time": "2022-02-13T17:46:25.120Z"
   },
   {
    "duration": 23,
    "start_time": "2022-02-13T17:48:43.073Z"
   },
   {
    "duration": 15,
    "start_time": "2022-02-13T17:48:43.599Z"
   },
   {
    "duration": 1034,
    "start_time": "2022-02-13T17:55:51.268Z"
   },
   {
    "duration": 369,
    "start_time": "2022-02-13T17:55:52.304Z"
   },
   {
    "duration": 5,
    "start_time": "2022-02-13T17:55:52.675Z"
   },
   {
    "duration": 8,
    "start_time": "2022-02-13T17:55:52.682Z"
   },
   {
    "duration": 93,
    "start_time": "2022-02-13T17:55:52.691Z"
   },
   {
    "duration": 8,
    "start_time": "2022-02-13T17:55:52.812Z"
   },
   {
    "duration": 12,
    "start_time": "2022-02-13T17:55:52.822Z"
   },
   {
    "duration": 77,
    "start_time": "2022-02-13T17:55:52.836Z"
   },
   {
    "duration": 23,
    "start_time": "2022-02-13T17:55:52.915Z"
   },
   {
    "duration": 9,
    "start_time": "2022-02-13T17:55:52.939Z"
   },
   {
    "duration": 10,
    "start_time": "2022-02-13T17:55:52.950Z"
   },
   {
    "duration": 79,
    "start_time": "2022-02-13T17:55:52.961Z"
   },
   {
    "duration": 9,
    "start_time": "2022-02-13T17:55:53.041Z"
   },
   {
    "duration": 46,
    "start_time": "2022-02-13T17:55:53.051Z"
   },
   {
    "duration": 8,
    "start_time": "2022-02-13T17:55:53.112Z"
   },
   {
    "duration": 57,
    "start_time": "2022-02-13T17:55:53.121Z"
   },
   {
    "duration": 13,
    "start_time": "2022-02-13T17:55:53.180Z"
   },
   {
    "duration": 57,
    "start_time": "2022-02-13T17:55:53.195Z"
   },
   {
    "duration": 11,
    "start_time": "2022-02-13T17:55:53.254Z"
   },
   {
    "duration": 46,
    "start_time": "2022-02-13T17:55:53.266Z"
   },
   {
    "duration": 13,
    "start_time": "2022-02-13T17:55:53.314Z"
   },
   {
    "duration": 21,
    "start_time": "2022-02-13T17:55:53.329Z"
   },
   {
    "duration": 13,
    "start_time": "2022-02-13T17:55:53.352Z"
   },
   {
    "duration": 5,
    "start_time": "2022-02-13T17:55:53.366Z"
   },
   {
    "duration": 44,
    "start_time": "2022-02-13T17:55:53.373Z"
   },
   {
    "duration": 5,
    "start_time": "2022-02-13T17:55:53.419Z"
   },
   {
    "duration": 471,
    "start_time": "2022-02-13T17:57:15.022Z"
   },
   {
    "duration": 13,
    "start_time": "2022-02-13T17:57:20.597Z"
   },
   {
    "duration": 6,
    "start_time": "2022-02-13T17:57:37.907Z"
   },
   {
    "duration": 5,
    "start_time": "2022-02-13T17:57:49.689Z"
   },
   {
    "duration": 6,
    "start_time": "2022-02-13T17:57:56.561Z"
   },
   {
    "duration": 1130,
    "start_time": "2022-02-14T15:37:05.272Z"
   },
   {
    "duration": 387,
    "start_time": "2022-02-14T15:37:06.404Z"
   },
   {
    "duration": 4,
    "start_time": "2022-02-14T15:37:06.793Z"
   },
   {
    "duration": 6,
    "start_time": "2022-02-14T15:37:06.799Z"
   },
   {
    "duration": 98,
    "start_time": "2022-02-14T15:37:06.806Z"
   },
   {
    "duration": 6,
    "start_time": "2022-02-14T15:37:06.906Z"
   },
   {
    "duration": 13,
    "start_time": "2022-02-14T15:37:06.914Z"
   },
   {
    "duration": 83,
    "start_time": "2022-02-14T15:37:06.929Z"
   },
   {
    "duration": 23,
    "start_time": "2022-02-14T15:37:07.014Z"
   },
   {
    "duration": 8,
    "start_time": "2022-02-14T15:37:07.038Z"
   },
   {
    "duration": 25,
    "start_time": "2022-02-14T15:37:07.048Z"
   },
   {
    "duration": 52,
    "start_time": "2022-02-14T15:37:07.075Z"
   },
   {
    "duration": 8,
    "start_time": "2022-02-14T15:37:07.129Z"
   },
   {
    "duration": 65,
    "start_time": "2022-02-14T15:37:07.139Z"
   },
   {
    "duration": 8,
    "start_time": "2022-02-14T15:37:07.205Z"
   },
   {
    "duration": 66,
    "start_time": "2022-02-14T15:37:07.215Z"
   },
   {
    "duration": 11,
    "start_time": "2022-02-14T15:37:07.283Z"
   },
   {
    "duration": 39,
    "start_time": "2022-02-14T15:37:07.295Z"
   },
   {
    "duration": 14,
    "start_time": "2022-02-14T15:37:07.336Z"
   },
   {
    "duration": 40,
    "start_time": "2022-02-14T15:37:07.351Z"
   },
   {
    "duration": 11,
    "start_time": "2022-02-14T15:37:07.392Z"
   },
   {
    "duration": 23,
    "start_time": "2022-02-14T15:37:07.404Z"
   },
   {
    "duration": 12,
    "start_time": "2022-02-14T15:37:07.430Z"
   },
   {
    "duration": 33,
    "start_time": "2022-02-14T15:37:07.444Z"
   },
   {
    "duration": 22,
    "start_time": "2022-02-14T15:37:07.479Z"
   },
   {
    "duration": 9,
    "start_time": "2022-02-14T15:37:07.503Z"
   },
   {
    "duration": 7,
    "start_time": "2022-02-14T15:37:07.513Z"
   },
   {
    "duration": 13,
    "start_time": "2022-02-14T15:37:07.522Z"
   },
   {
    "duration": 35,
    "start_time": "2022-02-14T15:37:07.537Z"
   },
   {
    "duration": 35,
    "start_time": "2022-02-14T15:38:07.176Z"
   },
   {
    "duration": 13,
    "start_time": "2022-02-14T15:38:07.545Z"
   },
   {
    "duration": 1624,
    "start_time": "2022-02-14T15:40:49.340Z"
   },
   {
    "duration": 29,
    "start_time": "2022-02-14T15:41:04.124Z"
   },
   {
    "duration": 354,
    "start_time": "2022-02-14T16:02:23.195Z"
   },
   {
    "duration": 7,
    "start_time": "2022-02-14T16:03:08.781Z"
   },
   {
    "duration": 7,
    "start_time": "2022-02-14T16:03:45.966Z"
   },
   {
    "duration": 7,
    "start_time": "2022-02-14T16:03:50.964Z"
   },
   {
    "duration": 4,
    "start_time": "2022-02-14T16:17:21.660Z"
   },
   {
    "duration": 3,
    "start_time": "2022-02-14T16:17:32.149Z"
   },
   {
    "duration": 3,
    "start_time": "2022-02-14T16:17:41.869Z"
   },
   {
    "duration": 3,
    "start_time": "2022-02-14T16:17:47.318Z"
   },
   {
    "duration": 4,
    "start_time": "2022-02-14T16:17:57.872Z"
   },
   {
    "duration": 4,
    "start_time": "2022-02-14T16:18:11.586Z"
   },
   {
    "duration": 4,
    "start_time": "2022-02-14T16:18:26.052Z"
   },
   {
    "duration": 3,
    "start_time": "2022-02-14T16:18:27.034Z"
   },
   {
    "duration": 4,
    "start_time": "2022-02-14T16:18:27.497Z"
   },
   {
    "duration": 4,
    "start_time": "2022-02-14T16:18:27.914Z"
   },
   {
    "duration": 3,
    "start_time": "2022-02-14T16:18:28.178Z"
   },
   {
    "duration": 4,
    "start_time": "2022-02-14T16:18:39.987Z"
   },
   {
    "duration": 6,
    "start_time": "2022-02-14T16:33:08.193Z"
   },
   {
    "duration": 797,
    "start_time": "2022-02-14T16:33:09.410Z"
   },
   {
    "duration": 5,
    "start_time": "2022-02-14T16:36:28.630Z"
   },
   {
    "duration": 44161,
    "start_time": "2022-02-14T16:36:29.568Z"
   },
   {
    "duration": 8,
    "start_time": "2022-02-14T16:38:10.451Z"
   },
   {
    "duration": 50161,
    "start_time": "2022-02-14T16:38:11.586Z"
   },
   {
    "duration": 6,
    "start_time": "2022-02-14T16:40:00.093Z"
   },
   {
    "duration": 54676,
    "start_time": "2022-02-14T16:40:01.310Z"
   },
   {
    "duration": 5,
    "start_time": "2022-02-14T16:42:44.775Z"
   },
   {
    "duration": 52562,
    "start_time": "2022-02-14T16:42:45.399Z"
   },
   {
    "duration": -149,
    "start_time": "2022-02-14T16:43:38.111Z"
   },
   {
    "duration": 5,
    "start_time": "2022-02-14T16:48:30.692Z"
   },
   {
    "duration": 4,
    "start_time": "2022-02-14T16:48:33.595Z"
   },
   {
    "duration": 39370,
    "start_time": "2022-02-14T16:48:33.910Z"
   },
   {
    "duration": 5,
    "start_time": "2022-02-14T16:49:27.401Z"
   },
   {
    "duration": 35562,
    "start_time": "2022-02-14T16:49:27.841Z"
   },
   {
    "duration": 27,
    "start_time": "2022-02-14T18:09:48.325Z"
   },
   {
    "duration": 5,
    "start_time": "2022-02-14T18:12:28.454Z"
   },
   {
    "duration": 34449,
    "start_time": "2022-02-14T18:12:28.838Z"
   },
   {
    "duration": 28,
    "start_time": "2022-02-14T18:25:01.215Z"
   },
   {
    "duration": 4,
    "start_time": "2022-02-14T18:25:02.271Z"
   },
   {
    "duration": 38040,
    "start_time": "2022-02-14T18:25:02.847Z"
   },
   {
    "duration": 11,
    "start_time": "2022-02-14T18:30:10.305Z"
   },
   {
    "duration": 10,
    "start_time": "2022-02-14T18:30:10.927Z"
   },
   {
    "duration": 11,
    "start_time": "2022-02-14T18:32:42.104Z"
   },
   {
    "duration": 11,
    "start_time": "2022-02-14T18:32:42.455Z"
   },
   {
    "duration": 13,
    "start_time": "2022-02-14T18:32:51.217Z"
   },
   {
    "duration": 13,
    "start_time": "2022-02-14T18:32:52.017Z"
   },
   {
    "duration": 11,
    "start_time": "2022-02-14T18:33:17.508Z"
   },
   {
    "duration": 11,
    "start_time": "2022-02-14T18:33:17.828Z"
   },
   {
    "duration": 10,
    "start_time": "2022-02-14T18:33:32.125Z"
   },
   {
    "duration": 10,
    "start_time": "2022-02-14T18:33:32.445Z"
   },
   {
    "duration": 19,
    "start_time": "2022-02-14T18:34:15.514Z"
   },
   {
    "duration": 12,
    "start_time": "2022-02-14T18:34:15.937Z"
   },
   {
    "duration": 18,
    "start_time": "2022-02-14T18:34:42.518Z"
   },
   {
    "duration": 19,
    "start_time": "2022-02-14T18:36:02.044Z"
   },
   {
    "duration": 194,
    "start_time": "2022-02-14T18:40:08.607Z"
   },
   {
    "duration": 17,
    "start_time": "2022-02-14T18:40:24.881Z"
   },
   {
    "duration": 14,
    "start_time": "2022-02-14T18:41:29.785Z"
   },
   {
    "duration": 16,
    "start_time": "2022-02-14T18:47:28.582Z"
   },
   {
    "duration": 18,
    "start_time": "2022-02-14T18:50:01.352Z"
   },
   {
    "duration": 394,
    "start_time": "2022-02-14T19:33:35.248Z"
   },
   {
    "duration": 394,
    "start_time": "2022-02-14T19:34:01.291Z"
   },
   {
    "duration": 482,
    "start_time": "2022-02-14T19:34:22.181Z"
   },
   {
    "duration": 409,
    "start_time": "2022-02-14T19:34:27.429Z"
   },
   {
    "duration": 522,
    "start_time": "2022-02-14T19:34:40.262Z"
   },
   {
    "duration": 6,
    "start_time": "2022-02-14T19:39:56.231Z"
   },
   {
    "duration": 381,
    "start_time": "2022-02-14T19:39:56.822Z"
   },
   {
    "duration": 334,
    "start_time": "2022-02-14T19:41:19.673Z"
   },
   {
    "duration": 323,
    "start_time": "2022-02-14T19:41:33.603Z"
   },
   {
    "duration": 265,
    "start_time": "2022-02-14T19:42:40.880Z"
   },
   {
    "duration": 278,
    "start_time": "2022-02-14T19:43:10.997Z"
   },
   {
    "duration": 691,
    "start_time": "2022-02-14T19:43:50.969Z"
   },
   {
    "duration": 507,
    "start_time": "2022-02-14T19:44:04.666Z"
   },
   {
    "duration": 8340,
    "start_time": "2022-02-14T21:57:08.432Z"
   },
   {
    "duration": 347,
    "start_time": "2022-02-14T21:57:44.885Z"
   },
   {
    "duration": 1264,
    "start_time": "2022-02-14T21:58:30.766Z"
   },
   {
    "duration": 430,
    "start_time": "2022-02-14T21:58:32.032Z"
   },
   {
    "duration": 5,
    "start_time": "2022-02-14T21:58:32.464Z"
   },
   {
    "duration": 6,
    "start_time": "2022-02-14T21:58:32.471Z"
   },
   {
    "duration": 118,
    "start_time": "2022-02-14T21:58:32.479Z"
   },
   {
    "duration": 7,
    "start_time": "2022-02-14T21:58:32.599Z"
   },
   {
    "duration": 11,
    "start_time": "2022-02-14T21:58:32.608Z"
   },
   {
    "duration": 80,
    "start_time": "2022-02-14T21:58:32.621Z"
   },
   {
    "duration": 22,
    "start_time": "2022-02-14T21:58:32.706Z"
   },
   {
    "duration": 11,
    "start_time": "2022-02-14T21:58:32.731Z"
   },
   {
    "duration": 29,
    "start_time": "2022-02-14T21:58:32.744Z"
   },
   {
    "duration": 50,
    "start_time": "2022-02-14T21:58:32.774Z"
   },
   {
    "duration": 9,
    "start_time": "2022-02-14T21:58:32.826Z"
   },
   {
    "duration": 60,
    "start_time": "2022-02-14T21:58:32.836Z"
   },
   {
    "duration": 8,
    "start_time": "2022-02-14T21:58:32.898Z"
   },
   {
    "duration": 68,
    "start_time": "2022-02-14T21:58:32.908Z"
   },
   {
    "duration": 13,
    "start_time": "2022-02-14T21:58:32.978Z"
   },
   {
    "duration": 53,
    "start_time": "2022-02-14T21:58:32.993Z"
   },
   {
    "duration": 26,
    "start_time": "2022-02-14T21:58:33.047Z"
   },
   {
    "duration": 28,
    "start_time": "2022-02-14T21:58:33.074Z"
   },
   {
    "duration": 14,
    "start_time": "2022-02-14T21:58:33.103Z"
   },
   {
    "duration": 54,
    "start_time": "2022-02-14T21:58:33.118Z"
   },
   {
    "duration": 5,
    "start_time": "2022-02-14T21:58:33.173Z"
   },
   {
    "duration": 38264,
    "start_time": "2022-02-14T21:58:33.180Z"
   },
   {
    "duration": 27,
    "start_time": "2022-02-14T21:59:11.445Z"
   },
   {
    "duration": 16,
    "start_time": "2022-02-14T21:59:11.474Z"
   },
   {
    "duration": 512,
    "start_time": "2022-02-14T21:59:11.493Z"
   },
   {
    "duration": 8,
    "start_time": "2022-02-14T21:59:12.008Z"
   },
   {
    "duration": 280,
    "start_time": "2022-02-14T21:59:12.018Z"
   },
   {
    "duration": 273,
    "start_time": "2022-02-14T21:59:12.300Z"
   },
   {
    "duration": 276,
    "start_time": "2022-02-14T21:59:12.575Z"
   },
   {
    "duration": 28,
    "start_time": "2022-02-14T21:59:12.852Z"
   },
   {
    "duration": 24,
    "start_time": "2022-02-14T21:59:33.481Z"
   },
   {
    "duration": 19,
    "start_time": "2022-02-14T22:04:44.819Z"
   },
   {
    "duration": 17,
    "start_time": "2022-02-14T22:05:24.419Z"
   },
   {
    "duration": 5,
    "start_time": "2022-02-14T22:30:41.767Z"
   },
   {
    "duration": 5,
    "start_time": "2022-02-14T22:31:05.227Z"
   },
   {
    "duration": 5,
    "start_time": "2022-02-14T22:31:10.171Z"
   },
   {
    "duration": 5,
    "start_time": "2022-02-14T22:31:28.708Z"
   },
   {
    "duration": 6,
    "start_time": "2022-02-14T22:33:44.170Z"
   },
   {
    "duration": 17,
    "start_time": "2022-02-14T22:33:48.307Z"
   },
   {
    "duration": 689,
    "start_time": "2022-02-14T23:02:25.020Z"
   },
   {
    "duration": 242,
    "start_time": "2022-02-14T23:02:44.694Z"
   },
   {
    "duration": 239,
    "start_time": "2022-02-14T23:03:30.932Z"
   },
   {
    "duration": 593,
    "start_time": "2022-02-14T23:04:50.574Z"
   },
   {
    "duration": 249,
    "start_time": "2022-02-14T23:05:07.133Z"
   },
   {
    "duration": 250,
    "start_time": "2022-02-14T23:05:20.390Z"
   },
   {
    "duration": 262,
    "start_time": "2022-02-14T23:06:16.886Z"
   },
   {
    "duration": 322,
    "start_time": "2022-02-14T23:06:34.208Z"
   },
   {
    "duration": 251,
    "start_time": "2022-02-14T23:06:39.472Z"
   },
   {
    "duration": 253,
    "start_time": "2022-02-14T23:06:49.529Z"
   },
   {
    "duration": 256,
    "start_time": "2022-02-14T23:07:47.736Z"
   },
   {
    "duration": 264,
    "start_time": "2022-02-14T23:08:04.252Z"
   },
   {
    "duration": 596,
    "start_time": "2022-02-14T23:08:39.443Z"
   },
   {
    "duration": 245,
    "start_time": "2022-02-14T23:08:43.477Z"
   },
   {
    "duration": 242,
    "start_time": "2022-02-14T23:09:02.937Z"
   },
   {
    "duration": 248,
    "start_time": "2022-02-14T23:09:17.228Z"
   },
   {
    "duration": 257,
    "start_time": "2022-02-14T23:09:40.987Z"
   },
   {
    "duration": 250,
    "start_time": "2022-02-14T23:12:22.155Z"
   },
   {
    "duration": 337,
    "start_time": "2022-02-14T23:12:59.631Z"
   },
   {
    "duration": 255,
    "start_time": "2022-02-14T23:13:05.530Z"
   },
   {
    "duration": 270,
    "start_time": "2022-02-14T23:13:26.044Z"
   },
   {
    "duration": 281,
    "start_time": "2022-02-14T23:14:52.310Z"
   },
   {
    "duration": 6,
    "start_time": "2022-02-14T23:20:17.326Z"
   },
   {
    "duration": 5,
    "start_time": "2022-02-14T23:20:42.961Z"
   },
   {
    "duration": 1080,
    "start_time": "2022-02-14T23:38:59.322Z"
   },
   {
    "duration": 362,
    "start_time": "2022-02-14T23:39:00.404Z"
   },
   {
    "duration": 4,
    "start_time": "2022-02-14T23:39:00.770Z"
   },
   {
    "duration": 17,
    "start_time": "2022-02-14T23:39:00.775Z"
   },
   {
    "duration": 101,
    "start_time": "2022-02-14T23:39:00.794Z"
   },
   {
    "duration": 5,
    "start_time": "2022-02-14T23:39:00.896Z"
   },
   {
    "duration": 11,
    "start_time": "2022-02-14T23:39:00.903Z"
   },
   {
    "duration": 15,
    "start_time": "2022-02-14T23:39:00.916Z"
   },
   {
    "duration": 83,
    "start_time": "2022-02-14T23:39:00.933Z"
   },
   {
    "duration": 25,
    "start_time": "2022-02-14T23:39:01.018Z"
   },
   {
    "duration": 9,
    "start_time": "2022-02-14T23:39:01.045Z"
   },
   {
    "duration": 23,
    "start_time": "2022-02-14T23:39:01.055Z"
   },
   {
    "duration": 50,
    "start_time": "2022-02-14T23:39:01.080Z"
   },
   {
    "duration": 8,
    "start_time": "2022-02-14T23:39:01.131Z"
   },
   {
    "duration": 64,
    "start_time": "2022-02-14T23:39:01.140Z"
   },
   {
    "duration": 7,
    "start_time": "2022-02-14T23:39:01.206Z"
   },
   {
    "duration": 65,
    "start_time": "2022-02-14T23:39:01.215Z"
   },
   {
    "duration": 12,
    "start_time": "2022-02-14T23:39:01.282Z"
   },
   {
    "duration": 44,
    "start_time": "2022-02-14T23:39:01.295Z"
   },
   {
    "duration": 11,
    "start_time": "2022-02-14T23:39:01.340Z"
   },
   {
    "duration": 40,
    "start_time": "2022-02-14T23:39:01.353Z"
   },
   {
    "duration": 11,
    "start_time": "2022-02-14T23:39:01.397Z"
   },
   {
    "duration": 28,
    "start_time": "2022-02-14T23:39:01.411Z"
   },
   {
    "duration": 6,
    "start_time": "2022-02-14T23:39:01.441Z"
   },
   {
    "duration": 34011,
    "start_time": "2022-02-14T23:39:01.472Z"
   },
   {
    "duration": 17,
    "start_time": "2022-02-14T23:39:35.485Z"
   },
   {
    "duration": 17,
    "start_time": "2022-02-14T23:39:35.504Z"
   },
   {
    "duration": 472,
    "start_time": "2022-02-14T23:39:35.522Z"
   },
   {
    "duration": 6,
    "start_time": "2022-02-14T23:39:35.996Z"
   },
   {
    "duration": 275,
    "start_time": "2022-02-14T23:39:36.004Z"
   },
   {
    "duration": 293,
    "start_time": "2022-02-14T23:39:36.281Z"
   },
   {
    "duration": 298,
    "start_time": "2022-02-14T23:39:36.576Z"
   },
   {
    "duration": 6,
    "start_time": "2022-02-14T23:39:36.876Z"
   },
   {
    "duration": 37,
    "start_time": "2022-02-14T23:39:36.885Z"
   },
   {
    "duration": 1092,
    "start_time": "2022-02-15T00:02:05.708Z"
   },
   {
    "duration": 357,
    "start_time": "2022-02-15T00:02:06.802Z"
   },
   {
    "duration": 4,
    "start_time": "2022-02-15T00:02:07.161Z"
   },
   {
    "duration": 6,
    "start_time": "2022-02-15T00:02:07.167Z"
   },
   {
    "duration": 104,
    "start_time": "2022-02-15T00:02:07.174Z"
   },
   {
    "duration": 5,
    "start_time": "2022-02-15T00:02:07.279Z"
   },
   {
    "duration": 8,
    "start_time": "2022-02-15T00:02:07.285Z"
   },
   {
    "duration": 9,
    "start_time": "2022-02-15T00:02:07.296Z"
   },
   {
    "duration": 75,
    "start_time": "2022-02-15T00:02:07.307Z"
   },
   {
    "duration": 22,
    "start_time": "2022-02-15T00:02:07.384Z"
   },
   {
    "duration": 8,
    "start_time": "2022-02-15T00:02:07.407Z"
   },
   {
    "duration": 9,
    "start_time": "2022-02-15T00:02:07.417Z"
   },
   {
    "duration": 65,
    "start_time": "2022-02-15T00:02:07.428Z"
   },
   {
    "duration": 8,
    "start_time": "2022-02-15T00:02:07.495Z"
   },
   {
    "duration": 41,
    "start_time": "2022-02-15T00:02:07.504Z"
   },
   {
    "duration": 26,
    "start_time": "2022-02-15T00:02:07.546Z"
   },
   {
    "duration": 49,
    "start_time": "2022-02-15T00:02:07.574Z"
   },
   {
    "duration": 11,
    "start_time": "2022-02-15T00:02:07.624Z"
   },
   {
    "duration": 52,
    "start_time": "2022-02-15T00:02:07.637Z"
   },
   {
    "duration": 11,
    "start_time": "2022-02-15T00:02:07.690Z"
   },
   {
    "duration": 21,
    "start_time": "2022-02-15T00:02:07.703Z"
   },
   {
    "duration": 10,
    "start_time": "2022-02-15T00:02:07.726Z"
   },
   {
    "duration": 49,
    "start_time": "2022-02-15T00:02:07.738Z"
   },
   {
    "duration": 6,
    "start_time": "2022-02-15T00:02:07.788Z"
   },
   {
    "duration": 34117,
    "start_time": "2022-02-15T00:02:07.795Z"
   },
   {
    "duration": 22,
    "start_time": "2022-02-15T00:02:41.916Z"
   },
   {
    "duration": 39,
    "start_time": "2022-02-15T00:02:41.940Z"
   },
   {
    "duration": 463,
    "start_time": "2022-02-15T00:02:41.981Z"
   },
   {
    "duration": 6,
    "start_time": "2022-02-15T00:02:42.445Z"
   },
   {
    "duration": 261,
    "start_time": "2022-02-15T00:02:42.453Z"
   },
   {
    "duration": 275,
    "start_time": "2022-02-15T00:02:42.715Z"
   },
   {
    "duration": 287,
    "start_time": "2022-02-15T00:02:42.992Z"
   },
   {
    "duration": 5,
    "start_time": "2022-02-15T00:02:43.280Z"
   },
   {
    "duration": 16,
    "start_time": "2022-02-15T00:02:43.286Z"
   },
   {
    "duration": 87,
    "start_time": "2022-02-22T09:38:43.589Z"
   },
   {
    "duration": 1563,
    "start_time": "2022-02-24T19:35:00.991Z"
   },
   {
    "duration": 514,
    "start_time": "2022-02-24T19:35:02.557Z"
   },
   {
    "duration": 7,
    "start_time": "2022-02-24T19:35:03.074Z"
   },
   {
    "duration": 10,
    "start_time": "2022-02-24T19:35:03.084Z"
   },
   {
    "duration": 179,
    "start_time": "2022-02-24T19:35:03.096Z"
   },
   {
    "duration": 8,
    "start_time": "2022-02-24T19:35:03.278Z"
   },
   {
    "duration": 16,
    "start_time": "2022-02-24T19:35:03.288Z"
   },
   {
    "duration": 51,
    "start_time": "2022-02-24T19:35:03.308Z"
   },
   {
    "duration": 88,
    "start_time": "2022-02-24T19:35:03.363Z"
   },
   {
    "duration": 32,
    "start_time": "2022-02-24T19:35:03.453Z"
   },
   {
    "duration": 12,
    "start_time": "2022-02-24T19:35:03.488Z"
   },
   {
    "duration": 14,
    "start_time": "2022-02-24T19:35:03.503Z"
   },
   {
    "duration": 75,
    "start_time": "2022-02-24T19:35:03.549Z"
   },
   {
    "duration": 31,
    "start_time": "2022-02-24T19:35:03.627Z"
   },
   {
    "duration": 62,
    "start_time": "2022-02-24T19:35:03.661Z"
   },
   {
    "duration": 28,
    "start_time": "2022-02-24T19:35:03.726Z"
   },
   {
    "duration": 72,
    "start_time": "2022-02-24T19:35:03.756Z"
   },
   {
    "duration": 21,
    "start_time": "2022-02-24T19:35:03.849Z"
   },
   {
    "duration": 76,
    "start_time": "2022-02-24T19:35:03.872Z"
   },
   {
    "duration": 18,
    "start_time": "2022-02-24T19:35:03.951Z"
   },
   {
    "duration": 33,
    "start_time": "2022-02-24T19:35:03.972Z"
   },
   {
    "duration": 42,
    "start_time": "2022-02-24T19:35:04.008Z"
   },
   {
    "duration": 49,
    "start_time": "2022-02-24T19:35:04.055Z"
   },
   {
    "duration": 8,
    "start_time": "2022-02-24T19:35:04.107Z"
   },
   {
    "duration": 66915,
    "start_time": "2022-02-24T19:35:04.118Z"
   },
   {
    "duration": 51,
    "start_time": "2022-02-24T19:36:11.036Z"
   },
   {
    "duration": 60,
    "start_time": "2022-02-24T19:36:11.090Z"
   },
   {
    "duration": 867,
    "start_time": "2022-02-24T19:36:11.153Z"
   },
   {
    "duration": 11,
    "start_time": "2022-02-24T19:36:12.022Z"
   },
   {
    "duration": 515,
    "start_time": "2022-02-24T19:36:12.035Z"
   },
   {
    "duration": 516,
    "start_time": "2022-02-24T19:36:12.552Z"
   },
   {
    "duration": 542,
    "start_time": "2022-02-24T19:36:13.071Z"
   },
   {
    "duration": 7,
    "start_time": "2022-02-24T19:36:13.616Z"
   },
   {
    "duration": 46,
    "start_time": "2022-02-24T19:36:13.625Z"
   },
   {
    "duration": 47,
    "start_time": "2022-02-24T19:39:17.497Z"
   },
   {
    "duration": 613,
    "start_time": "2022-02-24T19:44:34.889Z"
   },
   {
    "duration": 49,
    "start_time": "2022-02-24T19:44:46.500Z"
   },
   {
    "duration": 658,
    "start_time": "2022-02-24T20:29:56.012Z"
   },
   {
    "duration": 1155,
    "start_time": "2022-02-25T09:04:49.816Z"
   },
   {
    "duration": 351,
    "start_time": "2022-02-25T09:04:50.973Z"
   },
   {
    "duration": 4,
    "start_time": "2022-02-25T09:04:51.326Z"
   },
   {
    "duration": 9,
    "start_time": "2022-02-25T09:04:51.332Z"
   },
   {
    "duration": 104,
    "start_time": "2022-02-25T09:04:51.342Z"
   },
   {
    "duration": 5,
    "start_time": "2022-02-25T09:04:51.448Z"
   },
   {
    "duration": 10,
    "start_time": "2022-02-25T09:04:51.454Z"
   },
   {
    "duration": 13,
    "start_time": "2022-02-25T09:04:51.465Z"
   },
   {
    "duration": 68,
    "start_time": "2022-02-25T09:04:51.481Z"
   },
   {
    "duration": 21,
    "start_time": "2022-02-25T09:04:51.551Z"
   },
   {
    "duration": 7,
    "start_time": "2022-02-25T09:04:51.573Z"
   },
   {
    "duration": 10,
    "start_time": "2022-02-25T09:04:51.582Z"
   },
   {
    "duration": 65,
    "start_time": "2022-02-25T09:04:51.593Z"
   },
   {
    "duration": 7,
    "start_time": "2022-02-25T09:04:51.659Z"
   },
   {
    "duration": 40,
    "start_time": "2022-02-25T09:04:51.668Z"
   },
   {
    "duration": 7,
    "start_time": "2022-02-25T09:04:51.709Z"
   },
   {
    "duration": 70,
    "start_time": "2022-02-25T09:04:51.718Z"
   },
   {
    "duration": 13,
    "start_time": "2022-02-25T09:04:51.789Z"
   },
   {
    "duration": 43,
    "start_time": "2022-02-25T09:04:51.803Z"
   },
   {
    "duration": 12,
    "start_time": "2022-02-25T09:04:51.847Z"
   },
   {
    "duration": 31,
    "start_time": "2022-02-25T09:04:51.861Z"
   },
   {
    "duration": 26,
    "start_time": "2022-02-25T09:04:51.894Z"
   },
   {
    "duration": 25,
    "start_time": "2022-02-25T09:04:51.921Z"
   },
   {
    "duration": 33807,
    "start_time": "2022-02-25T09:04:51.947Z"
   },
   {
    "duration": 19,
    "start_time": "2022-02-25T09:05:25.756Z"
   },
   {
    "duration": 20,
    "start_time": "2022-02-25T09:05:25.777Z"
   },
   {
    "duration": 467,
    "start_time": "2022-02-25T09:05:25.800Z"
   },
   {
    "duration": 6,
    "start_time": "2022-02-25T09:05:26.269Z"
   },
   {
    "duration": 270,
    "start_time": "2022-02-25T09:05:26.276Z"
   },
   {
    "duration": 266,
    "start_time": "2022-02-25T09:05:26.547Z"
   },
   {
    "duration": 417,
    "start_time": "2022-02-25T09:05:26.814Z"
   },
   {
    "duration": 4,
    "start_time": "2022-02-25T09:05:27.233Z"
   },
   {
    "duration": 16,
    "start_time": "2022-02-25T09:05:27.246Z"
   },
   {
    "duration": 376,
    "start_time": "2022-02-25T09:06:07.605Z"
   },
   {
    "duration": 535,
    "start_time": "2022-02-25T09:07:04.701Z"
   },
   {
    "duration": 5,
    "start_time": "2022-02-25T09:07:48.992Z"
   },
   {
    "duration": 1130,
    "start_time": "2022-02-25T09:09:42.237Z"
   },
   {
    "duration": 484,
    "start_time": "2022-02-25T09:09:43.369Z"
   },
   {
    "duration": 6,
    "start_time": "2022-02-25T09:09:43.855Z"
   },
   {
    "duration": 8,
    "start_time": "2022-02-25T09:09:43.863Z"
   },
   {
    "duration": 107,
    "start_time": "2022-02-25T09:09:43.873Z"
   },
   {
    "duration": 5,
    "start_time": "2022-02-25T09:09:43.981Z"
   },
   {
    "duration": 9,
    "start_time": "2022-02-25T09:09:43.988Z"
   },
   {
    "duration": 12,
    "start_time": "2022-02-25T09:09:43.998Z"
   },
   {
    "duration": 81,
    "start_time": "2022-02-25T09:09:44.013Z"
   },
   {
    "duration": 22,
    "start_time": "2022-02-25T09:09:44.096Z"
   },
   {
    "duration": 7,
    "start_time": "2022-02-25T09:09:44.120Z"
   },
   {
    "duration": 21,
    "start_time": "2022-02-25T09:09:44.129Z"
   },
   {
    "duration": 49,
    "start_time": "2022-02-25T09:09:44.152Z"
   },
   {
    "duration": 7,
    "start_time": "2022-02-25T09:09:44.203Z"
   },
   {
    "duration": 60,
    "start_time": "2022-02-25T09:09:44.212Z"
   },
   {
    "duration": 7,
    "start_time": "2022-02-25T09:09:44.274Z"
   },
   {
    "duration": 51,
    "start_time": "2022-02-25T09:09:44.282Z"
   },
   {
    "duration": 20,
    "start_time": "2022-02-25T09:09:44.334Z"
   },
   {
    "duration": 37,
    "start_time": "2022-02-25T09:09:44.356Z"
   },
   {
    "duration": 11,
    "start_time": "2022-02-25T09:09:44.394Z"
   },
   {
    "duration": 44,
    "start_time": "2022-02-25T09:09:44.406Z"
   },
   {
    "duration": 27,
    "start_time": "2022-02-25T09:09:44.452Z"
   },
   {
    "duration": 4,
    "start_time": "2022-02-25T09:09:44.480Z"
   },
   {
    "duration": 34614,
    "start_time": "2022-02-25T09:09:44.486Z"
   },
   {
    "duration": 19,
    "start_time": "2022-02-25T09:10:19.101Z"
   },
   {
    "duration": 31,
    "start_time": "2022-02-25T09:10:19.121Z"
   },
   {
    "duration": 436,
    "start_time": "2022-02-25T09:10:19.154Z"
   },
   {
    "duration": 6,
    "start_time": "2022-02-25T09:10:19.592Z"
   },
   {
    "duration": 477,
    "start_time": "2022-02-25T09:10:19.600Z"
   },
   {
    "duration": 434,
    "start_time": "2022-02-25T09:10:20.078Z"
   },
   {
    "duration": 461,
    "start_time": "2022-02-25T09:10:20.514Z"
   },
   {
    "duration": 5,
    "start_time": "2022-02-25T09:10:20.976Z"
   },
   {
    "duration": 17,
    "start_time": "2022-02-25T09:10:20.983Z"
   },
   {
    "duration": 423,
    "start_time": "2022-02-25T09:11:17.979Z"
   },
   {
    "duration": 424,
    "start_time": "2022-02-25T09:11:41.252Z"
   },
   {
    "duration": 743,
    "start_time": "2022-02-25T09:11:43.596Z"
   },
   {
    "duration": 428,
    "start_time": "2022-02-25T09:11:44.341Z"
   },
   {
    "duration": 803,
    "start_time": "2022-02-25T09:14:08.067Z"
   },
   {
    "duration": 676,
    "start_time": "2022-02-25T09:15:35.205Z"
   },
   {
    "duration": 443,
    "start_time": "2022-02-25T09:15:54.647Z"
   },
   {
    "duration": 6,
    "start_time": "2022-02-25T09:16:44.112Z"
   },
   {
    "duration": 582,
    "start_time": "2022-02-25T09:16:50.593Z"
   },
   {
    "duration": 6,
    "start_time": "2022-02-25T09:17:08.978Z"
   },
   {
    "duration": 8691,
    "start_time": "2022-02-25T09:19:57.498Z"
   },
   {
    "duration": 10183,
    "start_time": "2022-02-25T09:20:20.419Z"
   },
   {
    "duration": 5,
    "start_time": "2022-02-25T09:20:46.998Z"
   },
   {
    "duration": 4,
    "start_time": "2022-02-25T09:20:55.751Z"
   },
   {
    "duration": 6,
    "start_time": "2022-02-25T09:20:59.176Z"
   },
   {
    "duration": 5612,
    "start_time": "2022-02-25T09:21:08.764Z"
   },
   {
    "duration": 6,
    "start_time": "2022-02-25T09:23:57.451Z"
   },
   {
    "duration": 5788,
    "start_time": "2022-02-25T09:24:15.292Z"
   },
   {
    "duration": 6,
    "start_time": "2022-02-25T09:24:25.711Z"
   },
   {
    "duration": 8,
    "start_time": "2022-02-25T09:24:43.746Z"
   },
   {
    "duration": 424,
    "start_time": "2022-02-25T09:32:10.433Z"
   },
   {
    "duration": 429,
    "start_time": "2022-02-25T09:34:19.220Z"
   },
   {
    "duration": 502,
    "start_time": "2022-02-25T09:34:50.775Z"
   },
   {
    "duration": 13,
    "start_time": "2022-02-25T10:38:00.509Z"
   },
   {
    "duration": 445,
    "start_time": "2022-02-25T10:56:05.842Z"
   },
   {
    "duration": 13,
    "start_time": "2022-02-25T10:56:27.054Z"
   },
   {
    "duration": 14,
    "start_time": "2022-02-25T10:57:21.505Z"
   },
   {
    "duration": 2096,
    "start_time": "2022-02-25T10:57:59.982Z"
   },
   {
    "duration": 425,
    "start_time": "2022-02-25T10:58:07.834Z"
   },
   {
    "duration": 404,
    "start_time": "2022-02-25T10:58:14.279Z"
   },
   {
    "duration": 4,
    "start_time": "2022-02-25T10:58:27.583Z"
   },
   {
    "duration": 437,
    "start_time": "2022-02-25T10:58:32.029Z"
   },
   {
    "duration": 12,
    "start_time": "2022-02-25T10:58:35.706Z"
   },
   {
    "duration": 3,
    "start_time": "2022-02-25T10:58:36.154Z"
   },
   {
    "duration": 392,
    "start_time": "2022-02-25T10:58:37.324Z"
   },
   {
    "duration": 8,
    "start_time": "2022-02-25T10:59:14.760Z"
   },
   {
    "duration": 413,
    "start_time": "2022-02-25T10:59:31.543Z"
   },
   {
    "duration": 7,
    "start_time": "2022-02-25T10:59:46.779Z"
   },
   {
    "duration": 6,
    "start_time": "2022-02-25T11:00:07.275Z"
   },
   {
    "duration": 15,
    "start_time": "2022-02-25T11:00:43.416Z"
   },
   {
    "duration": 325,
    "start_time": "2022-02-25T11:01:09.547Z"
   },
   {
    "duration": 6,
    "start_time": "2022-02-25T11:01:19.156Z"
   },
   {
    "duration": 7,
    "start_time": "2022-02-25T11:01:24.243Z"
   },
   {
    "duration": 7,
    "start_time": "2022-02-25T11:02:01.531Z"
   },
   {
    "duration": 1117,
    "start_time": "2022-02-25T11:14:31.168Z"
   },
   {
    "duration": 386,
    "start_time": "2022-02-25T11:14:32.287Z"
   },
   {
    "duration": 5,
    "start_time": "2022-02-25T11:14:32.675Z"
   },
   {
    "duration": 8,
    "start_time": "2022-02-25T11:14:32.681Z"
   },
   {
    "duration": 81,
    "start_time": "2022-02-25T11:14:32.690Z"
   },
   {
    "duration": 5,
    "start_time": "2022-02-25T11:14:32.773Z"
   },
   {
    "duration": 7,
    "start_time": "2022-02-25T11:14:32.779Z"
   },
   {
    "duration": 12,
    "start_time": "2022-02-25T11:14:32.788Z"
   },
   {
    "duration": 76,
    "start_time": "2022-02-25T11:14:32.802Z"
   },
   {
    "duration": 20,
    "start_time": "2022-02-25T11:14:32.880Z"
   },
   {
    "duration": 8,
    "start_time": "2022-02-25T11:14:32.902Z"
   },
   {
    "duration": 7,
    "start_time": "2022-02-25T11:14:32.911Z"
   },
   {
    "duration": 68,
    "start_time": "2022-02-25T11:14:32.919Z"
   },
   {
    "duration": 7,
    "start_time": "2022-02-25T11:14:32.988Z"
   },
   {
    "duration": 55,
    "start_time": "2022-02-25T11:14:32.996Z"
   },
   {
    "duration": 7,
    "start_time": "2022-02-25T11:14:33.052Z"
   },
   {
    "duration": 50,
    "start_time": "2022-02-25T11:14:33.060Z"
   },
   {
    "duration": 11,
    "start_time": "2022-02-25T11:14:33.111Z"
   },
   {
    "duration": 49,
    "start_time": "2022-02-25T11:14:33.123Z"
   },
   {
    "duration": 10,
    "start_time": "2022-02-25T11:14:33.173Z"
   },
   {
    "duration": 34,
    "start_time": "2022-02-25T11:14:33.184Z"
   },
   {
    "duration": 37,
    "start_time": "2022-02-25T11:14:33.220Z"
   },
   {
    "duration": 4,
    "start_time": "2022-02-25T11:14:33.260Z"
   },
   {
    "duration": 34434,
    "start_time": "2022-02-25T11:14:33.266Z"
   },
   {
    "duration": 20,
    "start_time": "2022-02-25T11:15:07.701Z"
   },
   {
    "duration": 32,
    "start_time": "2022-02-25T11:15:07.723Z"
   },
   {
    "duration": 441,
    "start_time": "2022-02-25T11:15:07.756Z"
   },
   {
    "duration": 7,
    "start_time": "2022-02-25T11:15:08.198Z"
   },
   {
    "duration": 464,
    "start_time": "2022-02-25T11:15:08.206Z"
   },
   {
    "duration": 414,
    "start_time": "2022-02-25T11:15:08.672Z"
   },
   {
    "duration": 425,
    "start_time": "2022-02-25T11:15:09.088Z"
   },
   {
    "duration": 5,
    "start_time": "2022-02-25T11:15:09.515Z"
   },
   {
    "duration": 30,
    "start_time": "2022-02-25T11:15:09.521Z"
   },
   {
    "duration": 382,
    "start_time": "2022-02-25T11:22:35.719Z"
   },
   {
    "duration": 5,
    "start_time": "2022-02-25T11:22:36.552Z"
   },
   {
    "duration": 3,
    "start_time": "2022-02-25T11:22:36.969Z"
   },
   {
    "duration": 78,
    "start_time": "2022-02-25T11:22:38.001Z"
   },
   {
    "duration": 5,
    "start_time": "2022-02-25T11:22:41.954Z"
   },
   {
    "duration": 8,
    "start_time": "2022-02-25T11:23:08.651Z"
   },
   {
    "duration": 14,
    "start_time": "2022-02-25T11:23:08.884Z"
   },
   {
    "duration": 64,
    "start_time": "2022-02-25T11:23:09.259Z"
   },
   {
    "duration": 28,
    "start_time": "2022-02-25T11:23:09.875Z"
   },
   {
    "duration": 12,
    "start_time": "2022-02-25T11:23:10.436Z"
   },
   {
    "duration": 465,
    "start_time": "2022-02-25T11:23:12.724Z"
   },
   {
    "duration": 343,
    "start_time": "2022-02-25T11:31:24.391Z"
   },
   {
    "duration": 6,
    "start_time": "2022-02-25T11:31:58.419Z"
   },
   {
    "duration": 330,
    "start_time": "2022-02-25T11:32:59.443Z"
   },
   {
    "duration": 253,
    "start_time": "2022-02-25T11:34:00.602Z"
   },
   {
    "duration": 289,
    "start_time": "2022-02-25T11:35:00.263Z"
   },
   {
    "duration": 39,
    "start_time": "2022-02-25T11:35:24.939Z"
   },
   {
    "duration": 8,
    "start_time": "2022-02-25T11:35:25.874Z"
   },
   {
    "duration": 391,
    "start_time": "2022-02-25T11:35:27.049Z"
   },
   {
    "duration": 473,
    "start_time": "2022-02-25T11:35:55.967Z"
   },
   {
    "duration": 805,
    "start_time": "2022-02-25T11:36:11.736Z"
   },
   {
    "duration": 836,
    "start_time": "2022-02-25T11:36:20.112Z"
   },
   {
    "duration": 180,
    "start_time": "2022-02-25T11:36:51.204Z"
   },
   {
    "duration": 865,
    "start_time": "2022-02-25T11:37:02.108Z"
   },
   {
    "duration": 418,
    "start_time": "2022-02-25T11:37:22.446Z"
   },
   {
    "duration": 311,
    "start_time": "2022-02-25T11:37:23.311Z"
   },
   {
    "duration": 5,
    "start_time": "2022-02-25T11:37:23.688Z"
   },
   {
    "duration": 4,
    "start_time": "2022-02-25T11:37:23.887Z"
   },
   {
    "duration": 82,
    "start_time": "2022-02-25T11:37:24.400Z"
   },
   {
    "duration": 6,
    "start_time": "2022-02-25T11:37:24.965Z"
   },
   {
    "duration": 7,
    "start_time": "2022-02-25T11:37:26.702Z"
   },
   {
    "duration": 9,
    "start_time": "2022-02-25T11:37:26.919Z"
   },
   {
    "duration": 4,
    "start_time": "2022-02-25T11:37:27.927Z"
   },
   {
    "duration": 7,
    "start_time": "2022-02-25T11:37:28.112Z"
   },
   {
    "duration": 43,
    "start_time": "2022-02-25T11:37:28.918Z"
   },
   {
    "duration": 22,
    "start_time": "2022-02-25T11:37:29.310Z"
   },
   {
    "duration": 9,
    "start_time": "2022-02-25T11:37:29.711Z"
   },
   {
    "duration": 48,
    "start_time": "2022-02-25T11:37:30.311Z"
   },
   {
    "duration": 9,
    "start_time": "2022-02-25T11:37:31.216Z"
   },
   {
    "duration": 40,
    "start_time": "2022-02-25T11:37:32.215Z"
   },
   {
    "duration": 8,
    "start_time": "2022-02-25T11:37:33.808Z"
   },
   {
    "duration": 47,
    "start_time": "2022-02-25T11:37:36.265Z"
   },
   {
    "duration": 1158,
    "start_time": "2022-02-25T11:41:04.952Z"
   },
   {
    "duration": 410,
    "start_time": "2022-02-25T11:41:06.112Z"
   },
   {
    "duration": 4,
    "start_time": "2022-02-25T11:41:06.524Z"
   },
   {
    "duration": 8,
    "start_time": "2022-02-25T11:41:06.530Z"
   },
   {
    "duration": 80,
    "start_time": "2022-02-25T11:41:06.540Z"
   },
   {
    "duration": 5,
    "start_time": "2022-02-25T11:41:06.622Z"
   },
   {
    "duration": 18,
    "start_time": "2022-02-25T11:41:06.628Z"
   },
   {
    "duration": 9,
    "start_time": "2022-02-25T11:41:06.648Z"
   },
   {
    "duration": 50,
    "start_time": "2022-02-25T11:41:06.659Z"
   },
   {
    "duration": 7,
    "start_time": "2022-02-25T11:41:06.711Z"
   },
   {
    "duration": 33,
    "start_time": "2022-02-25T11:41:06.720Z"
   },
   {
    "duration": 8,
    "start_time": "2022-02-25T11:41:06.754Z"
   },
   {
    "duration": 29,
    "start_time": "2022-02-25T11:41:06.763Z"
   },
   {
    "duration": 7,
    "start_time": "2022-02-25T11:41:06.794Z"
   },
   {
    "duration": 79,
    "start_time": "2022-02-25T11:41:06.802Z"
   },
   {
    "duration": 47,
    "start_time": "2022-02-25T11:41:06.883Z"
   },
   {
    "duration": 19,
    "start_time": "2022-02-25T11:41:06.931Z"
   },
   {
    "duration": 35,
    "start_time": "2022-02-25T11:41:06.952Z"
   },
   {
    "duration": 11,
    "start_time": "2022-02-25T11:41:06.988Z"
   },
   {
    "duration": 48,
    "start_time": "2022-02-25T11:41:07.001Z"
   },
   {
    "duration": 27,
    "start_time": "2022-02-25T11:41:07.050Z"
   },
   {
    "duration": 5,
    "start_time": "2022-02-25T11:41:07.078Z"
   },
   {
    "duration": 34705,
    "start_time": "2022-02-25T11:41:07.085Z"
   },
   {
    "duration": 20,
    "start_time": "2022-02-25T11:41:41.792Z"
   },
   {
    "duration": 16,
    "start_time": "2022-02-25T11:41:41.813Z"
   },
   {
    "duration": 450,
    "start_time": "2022-02-25T11:41:41.846Z"
   },
   {
    "duration": 8,
    "start_time": "2022-02-25T11:41:42.297Z"
   },
   {
    "duration": 563,
    "start_time": "2022-02-25T11:41:42.307Z"
   },
   {
    "duration": 471,
    "start_time": "2022-02-25T11:41:42.872Z"
   },
   {
    "duration": 522,
    "start_time": "2022-02-25T11:41:43.345Z"
   },
   {
    "duration": 5,
    "start_time": "2022-02-25T11:41:43.869Z"
   },
   {
    "duration": 17,
    "start_time": "2022-02-25T11:41:43.876Z"
   },
   {
    "duration": 17,
    "start_time": "2022-02-25T11:43:24.230Z"
   },
   {
    "duration": 1092,
    "start_time": "2022-02-25T11:48:00.701Z"
   },
   {
    "duration": 429,
    "start_time": "2022-02-25T11:48:01.795Z"
   },
   {
    "duration": 5,
    "start_time": "2022-02-25T11:48:02.226Z"
   },
   {
    "duration": 9,
    "start_time": "2022-02-25T11:48:02.232Z"
   },
   {
    "duration": 109,
    "start_time": "2022-02-25T11:48:02.243Z"
   },
   {
    "duration": 5,
    "start_time": "2022-02-25T11:48:02.354Z"
   },
   {
    "duration": 9,
    "start_time": "2022-02-25T11:48:02.360Z"
   },
   {
    "duration": 17,
    "start_time": "2022-02-25T11:48:02.370Z"
   },
   {
    "duration": 68,
    "start_time": "2022-02-25T11:48:02.390Z"
   },
   {
    "duration": 8,
    "start_time": "2022-02-25T11:48:02.460Z"
   },
   {
    "duration": 46,
    "start_time": "2022-02-25T11:48:02.470Z"
   },
   {
    "duration": 9,
    "start_time": "2022-02-25T11:48:02.518Z"
   },
   {
    "duration": 42,
    "start_time": "2022-02-25T11:48:02.529Z"
   },
   {
    "duration": 7,
    "start_time": "2022-02-25T11:48:02.572Z"
   },
   {
    "duration": 55,
    "start_time": "2022-02-25T11:48:02.580Z"
   },
   {
    "duration": 53,
    "start_time": "2022-02-25T11:48:02.636Z"
   },
   {
    "duration": 11,
    "start_time": "2022-02-25T11:48:02.691Z"
   },
   {
    "duration": 53,
    "start_time": "2022-02-25T11:48:02.703Z"
   },
   {
    "duration": 10,
    "start_time": "2022-02-25T11:48:02.758Z"
   },
   {
    "duration": 37,
    "start_time": "2022-02-25T11:48:02.769Z"
   },
   {
    "duration": 39,
    "start_time": "2022-02-25T11:48:02.808Z"
   },
   {
    "duration": 4,
    "start_time": "2022-02-25T11:48:02.848Z"
   },
   {
    "duration": 34993,
    "start_time": "2022-02-25T11:48:02.854Z"
   },
   {
    "duration": 19,
    "start_time": "2022-02-25T11:48:37.849Z"
   },
   {
    "duration": 16,
    "start_time": "2022-02-25T11:48:37.870Z"
   },
   {
    "duration": 454,
    "start_time": "2022-02-25T11:48:37.888Z"
   },
   {
    "duration": 7,
    "start_time": "2022-02-25T11:48:38.344Z"
   },
   {
    "duration": 479,
    "start_time": "2022-02-25T11:48:38.352Z"
   },
   {
    "duration": 419,
    "start_time": "2022-02-25T11:48:38.832Z"
   },
   {
    "duration": 406,
    "start_time": "2022-02-25T11:48:39.253Z"
   },
   {
    "duration": 5,
    "start_time": "2022-02-25T11:48:39.661Z"
   },
   {
    "duration": 21,
    "start_time": "2022-02-25T11:48:39.667Z"
   }
  ],
  "kernelspec": {
   "display_name": "Python 3 (ipykernel)",
   "language": "python",
   "name": "python3"
  },
  "language_info": {
   "codemirror_mode": {
    "name": "ipython",
    "version": 3
   },
   "file_extension": ".py",
   "mimetype": "text/x-python",
   "name": "python",
   "nbconvert_exporter": "python",
   "pygments_lexer": "ipython3",
   "version": "3.9.5"
  },
  "toc": {
   "base_numbering": 1,
   "nav_menu": {},
   "number_sections": true,
   "sideBar": true,
   "skip_h1_title": true,
   "title_cell": "Table of Contents",
   "title_sidebar": "Contents",
   "toc_cell": false,
   "toc_position": {
    "height": "calc(100% - 180px)",
    "left": "10px",
    "top": "150px",
    "width": "313.797px"
   },
   "toc_section_display": true,
   "toc_window_display": true
  }
 },
 "nbformat": 4,
 "nbformat_minor": 2
}